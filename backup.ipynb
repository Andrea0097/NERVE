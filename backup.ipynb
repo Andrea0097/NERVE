{
  "nbformat": 4,
  "nbformat_minor": 0,
  "metadata": {
    "colab": {
      "name": "nerve.ipynb",
      "provenance": [],
      "collapsed_sections": []
    },
    "kernelspec": {
      "name": "python3",
      "display_name": "Python 3"
    },
    "language_info": {
      "name": "python"
    }
  },
  "cells": [
    {
      "cell_type": "markdown",
      "metadata": {
        "id": "eLc1ciFLp02_"
      },
      "source": [
        "# NERVE 2"
      ]
    },
    {
      "cell_type": "markdown",
      "metadata": {
        "id": "xOYlvyAnp3Ub"
      },
      "source": [
        "## Intro: install all the dependencies/packets/modules"
      ]
    },
    {
      "cell_type": "code",
      "metadata": {
        "colab": {
          "base_uri": "https://localhost:8080/"
        },
        "id": "Ob3lAcGOBexU",
        "outputId": "18fa5be1-76f9-492f-b938-1e7984b1ede7"
      },
      "source": [
        "!rm -r spaan\n",
        "!rm -r NERVE\n",
        "!git clone git://github.com/nicolagulmini/spaan\n",
        "!git clone git://github.com/nicolagulmini/NERVE\n",
        "!python -m pip install git+https://github.com/nicolagulmini/tmhmm.py\n",
        "!pip install Bio\n",
        "!apt-get install ncbi-blast+ # for the autoimmunity module if we meant to use blastp to make the comparisons"
      ],
      "execution_count": 1,
      "outputs": [
        {
          "output_type": "stream",
          "name": "stdout",
          "text": [
            "Cloning into 'spaan'...\n",
            "remote: Enumerating objects: 195, done.\u001b[K\n",
            "remote: Counting objects: 100% (195/195), done.\u001b[K\n",
            "remote: Compressing objects: 100% (155/155), done.\u001b[K\n",
            "remote: Total 195 (delta 109), reused 91 (delta 37), pack-reused 0\u001b[K\n",
            "Receiving objects: 100% (195/195), 5.63 MiB | 11.54 MiB/s, done.\n",
            "Resolving deltas: 100% (109/109), done.\n",
            "Cloning into 'NERVE'...\n",
            "remote: Enumerating objects: 106, done.\u001b[K\n",
            "remote: Counting objects: 100% (106/106), done.\u001b[K\n",
            "remote: Compressing objects: 100% (93/93), done.\u001b[K\n",
            "remote: Total 106 (delta 47), reused 45 (delta 11), pack-reused 0\u001b[K\n",
            "Receiving objects: 100% (106/106), 17.23 MiB | 17.71 MiB/s, done.\n",
            "Resolving deltas: 100% (47/47), done.\n",
            "Collecting git+https://github.com/nicolagulmini/tmhmm.py\n",
            "  Cloning https://github.com/nicolagulmini/tmhmm.py to /tmp/pip-req-build-33ngvjf9\n",
            "  Running command git clone -q https://github.com/nicolagulmini/tmhmm.py /tmp/pip-req-build-33ngvjf9\n",
            "Requirement already satisfied: numpy>=1.9 in /usr/local/lib/python3.7/dist-packages (from tmhmm.py==1.3.1) (1.19.5)\n",
            "Requirement already satisfied: Bio in /usr/local/lib/python3.7/dist-packages (0.8.9)\n",
            "Requirement already satisfied: plac in /usr/local/lib/python3.7/dist-packages (from Bio) (1.1.3)\n",
            "Requirement already satisfied: mygene in /usr/local/lib/python3.7/dist-packages (from Bio) (3.2.2)\n",
            "Requirement already satisfied: biopython>=1.79 in /usr/local/lib/python3.7/dist-packages (from Bio) (1.79)\n",
            "Requirement already satisfied: tqdm>=4.62 in /usr/local/lib/python3.7/dist-packages (from Bio) (4.62.0)\n",
            "Requirement already satisfied: requests in /usr/local/lib/python3.7/dist-packages (from Bio) (2.23.0)\n",
            "Requirement already satisfied: numpy in /usr/local/lib/python3.7/dist-packages (from biopython>=1.79->Bio) (1.19.5)\n",
            "Requirement already satisfied: biothings-client>=0.2.6 in /usr/local/lib/python3.7/dist-packages (from mygene->Bio) (0.2.6)\n",
            "Requirement already satisfied: urllib3!=1.25.0,!=1.25.1,<1.26,>=1.21.1 in /usr/local/lib/python3.7/dist-packages (from requests->Bio) (1.24.3)\n",
            "Requirement already satisfied: idna<3,>=2.5 in /usr/local/lib/python3.7/dist-packages (from requests->Bio) (2.10)\n",
            "Requirement already satisfied: chardet<4,>=3.0.2 in /usr/local/lib/python3.7/dist-packages (from requests->Bio) (3.0.4)\n",
            "Requirement already satisfied: certifi>=2017.4.17 in /usr/local/lib/python3.7/dist-packages (from requests->Bio) (2021.5.30)\n",
            "Reading package lists... Done\n",
            "Building dependency tree       \n",
            "Reading state information... Done\n",
            "ncbi-blast+ is already the newest version (2.6.0-1).\n",
            "0 upgraded, 0 newly installed, 0 to remove and 40 not upgraded.\n"
          ]
        }
      ]
    },
    {
      "cell_type": "code",
      "metadata": {
        "id": "q-tB0jg5B-zw"
      },
      "source": [
        "import tmhmm                                                # to predict transmembrane domains\n",
        "from Bio import SeqIO                                       # to handle .fasta files\n",
        "from Bio.Blast.Applications import NcbiblastpCommandline    # autoimmunity module, to query the local sapiens database\n",
        "from Bio.ExPASy.ScanProsite import scan, read               # scan prosite functional domains information\n",
        "from Bio.Blast import NCBIXML                               # to parse the peptides\n",
        "from NERVE import Protein                                   # to contain proteins information\n",
        "from tensorflow import keras                                # to use the spaan model (to predict the probability of a protein to be an adhesin)\n",
        "import pandas                                               # to read mhcpep.csv and write the final report\n",
        "from spaan.data_processing import *                     # to extract proteins features for the spaan model"
      ],
      "execution_count": 2,
      "outputs": []
    },
    {
      "cell_type": "markdown",
      "metadata": {
        "id": "gj1u_5NQqdFx"
      },
      "source": [
        "## User parameters"
      ]
    },
    {
      "cell_type": "code",
      "metadata": {
        "id": "QnDaOM2tCLrs"
      },
      "source": [
        "p_ad_no_citoplasm_filter = 0.46\n",
        "p_ad_extracellular_filter = 0.38\n",
        "transmemb_dom_limit_filter = 2\n",
        "e_value = 1e-10\n",
        "similarity_function = 0.8\n",
        "verbose = 0\n",
        "GRAM = 'p' # for now we can mantain it 'p' as 'positive', then the user will have to put the right parameter! p = positive, n = negative, a = archea (for psortb)"
      ],
      "execution_count": 3,
      "outputs": []
    },
    {
      "cell_type": "markdown",
      "metadata": {
        "id": "cR_1eti6qfai"
      },
      "source": [
        "## Define all the initial objects/paths"
      ]
    },
    {
      "cell_type": "code",
      "metadata": {
        "id": "tVXFZ77cCQvm"
      },
      "source": [
        "# main program\n",
        "\n",
        "# TODO: check parameters, license ecc.\n",
        "\n",
        "path_to_fastas = \"./NERVE/data/tre.fasta\"\n",
        "path_to_another_proteom = \"\"\n",
        "list_of_fasta_proteins = list(SeqIO.parse(path_to_fastas, \"fasta\")) # put the right path\n",
        "\n",
        "list_of_proteins = []\n",
        "for p in list_of_fasta_proteins:\n",
        "\tp_id = p.id\n",
        "\tp_seq = p.seq\n",
        "\tlist_of_proteins.append(Protein.Protein(p_id, p_seq))\n",
        "\n",
        "if verbose > 0:\n",
        "\tfor p in list_of_proteins:\n",
        "\t\tp.print_information()"
      ],
      "execution_count": 4,
      "outputs": []
    },
    {
      "cell_type": "markdown",
      "metadata": {
        "id": "BDN_TkUTqlyP"
      },
      "source": [
        "# Subcelloc "
      ]
    },
    {
      "cell_type": "code",
      "metadata": {
        "colab": {
          "base_uri": "https://localhost:8080/",
          "height": 124
        },
        "id": "a8XzKlsgHvYb",
        "outputId": "dc45b986-6a08-4f51-c922-1b954acd6537"
      },
      "source": [
        "# psortb test\n",
        "'''\n",
        "6. Limitations\n",
        "    6.1 Proteins resident at multiple localization sites: Many proteins can exist at multiple localization sites. Examples of such proteins include integral membrane proteins with large periplasmic domains, or autotransporters, which contain an outer membrane pore domain and a cleaved extracellular domain. The current version of PSORTb handles this situation by flagging proteins which show a distribution of localization scores favouring two sites, rather than one. It is important to examine the distribution of localization scores carefully in order to determine if your submitted protein may have multiple localization sites and if so, which two sites are involved.\n",
        "    6.2 Lipoproteins: The current version of PSORTb does not detect lipoprotein motifs.\n",
        "    6.3 Precision vs. Recall: PSORTb is designed to emphasize precision (or specificity) over recall (or sensitivity). Programs which make predictions at all costs often provide incorrect or incomplete results, which can be propagated through annotated databases, datasets and reports in the literature. We believe that a confident prediction is more valuable than any prediction, and we have designed the program to this end. Note, however, that a user may choose to use their own reduced cutoff score in generating final predictions.\n",
        "'''\n",
        "# use the psortb.py in python code that I found online (link in the comment of the file itself). Then try it with linux."
      ],
      "execution_count": 5,
      "outputs": [
        {
          "output_type": "execute_result",
          "data": {
            "application/vnd.google.colaboratory.intrinsic+json": {
              "type": "string"
            },
            "text/plain": [
              "'\\n6. Limitations\\n    6.1 Proteins resident at multiple localization sites: Many proteins can exist at multiple localization sites. Examples of such proteins include integral membrane proteins with large periplasmic domains, or autotransporters, which contain an outer membrane pore domain and a cleaved extracellular domain. The current version of PSORTb handles this situation by flagging proteins which show a distribution of localization scores favouring two sites, rather than one. It is important to examine the distribution of localization scores carefully in order to determine if your submitted protein may have multiple localization sites and if so, which two sites are involved.\\n    6.2 Lipoproteins: The current version of PSORTb does not detect lipoprotein motifs.\\n    6.3 Precision vs. Recall: PSORTb is designed to emphasize precision (or specificity) over recall (or sensitivity). Programs which make predictions at all costs often provide incorrect or incomplete results, which can be propagated through annotated databases, datasets and reports in the literature. We believe that a confident prediction is more valuable than any prediction, and we have designed the program to this end. Note, however, that a user may choose to use their own reduced cutoff score in generating final predictions.\\n'"
            ]
          },
          "metadata": {},
          "execution_count": 5
        }
      ]
    },
    {
      "cell_type": "code",
      "metadata": {
        "colab": {
          "base_uri": "https://localhost:8080/"
        },
        "id": "1v9n_Pw0CeY3",
        "outputId": "1bba6548-4a76-42d8-f9c6-db5fbe0844b4"
      },
      "source": [
        "# Subcelloc module\n",
        "# ... cerca di capire come chiamare psortb da qua\n",
        "print(\"Warning: the PSORTB output has to be 'terse'!\")\n",
        "\n",
        "# final predictions parsing from the output of psortb program\n",
        "filename = \"20210903075318_psortb_gramneg.txt\" # put the right filename from the previous (and still absent) lines of code\n",
        "fp = open(\"./NERVE/data/\"+filename, 'r')\n",
        "lines = fp.readlines()\n",
        "for i in range(1, len(lines)):\n",
        "    attributes = lines[i].split(' ')\n",
        "    if attributes[0] == list_of_proteins[i-1].id:\n",
        "        last_attributes = attributes[len(attributes)-1].split('\\t') # example: ['SV=2', 'Cytoplasmic', '9.97\\n']\n",
        "        list_of_proteins[i-1].localization = last_attributes[1] # if it gives errors, try last_attributes[len(last_attributes)-2]\n",
        "fp.close()"
      ],
      "execution_count": 6,
      "outputs": [
        {
          "output_type": "stream",
          "name": "stdout",
          "text": [
            "Warning: the PSORTB output has to be 'terse'!\n"
          ]
        }
      ]
    },
    {
      "cell_type": "markdown",
      "metadata": {
        "id": "OwGDvGM3qni_"
      },
      "source": [
        "# Adhesin"
      ]
    },
    {
      "cell_type": "code",
      "metadata": {
        "id": "xu2-nw1kCewm"
      },
      "source": [
        "# Adhesin module\n",
        "\n",
        "model = keras.models.load_model('./NERVE/espaan_model.h5') # insert the path to location!\n",
        "for p in list_of_proteins:\n",
        "\tp.p_ad = float(model.predict([\n",
        "\t\t\t     np.array([aminoacids_frequencies(p.sequence)]),\n",
        "\t\t\t     np.array([multiplet_frequencies(p.sequence, 3)]),\n",
        "\t\t\t     np.array([multiplet_frequencies(p.sequence, 4)]),\n",
        "\t\t\t     np.array([multiplet_frequencies(p.sequence, 5)]),\n",
        "\t\t\t     np.array([dipeptide_frequencies(p.sequence)]),\n",
        "\t\t\t     np.array([charge_composition(p.sequence)]),\n",
        "\t\t\t     np.array([hydrophobic_composition(p.sequence)])\n",
        "\t\t     ]))"
      ],
      "execution_count": 7,
      "outputs": []
    },
    {
      "cell_type": "markdown",
      "metadata": {
        "id": "kQbSXC2Fqo2P"
      },
      "source": [
        "# Tmhelices"
      ]
    },
    {
      "cell_type": "code",
      "metadata": {
        "colab": {
          "base_uri": "https://localhost:8080/"
        },
        "id": "SOnJbnpVEaac",
        "outputId": "fc810afe-3bb2-475c-b862-09e6d786b630"
      },
      "source": [
        "# Tmhelices module\n",
        "\n",
        "for p in list_of_proteins:\n",
        "    annotation, _ = tmhmm.predict(p.sequence)\n",
        "    p.tmhmm_seq = annotation\n",
        "    transmembrane_domains = 0\n",
        "    for i in range(len(annotation)-1):\n",
        "        if (annotation[i] == 'i' or annotation[i] == 'o') and annotation[i+1] == 'M':\n",
        "            transmembrane_domains += 1\n",
        "    p.transmembrane_doms = transmembrane_domains"
      ],
      "execution_count": 8,
      "outputs": [
        {
          "output_type": "stream",
          "name": "stderr",
          "text": [
            "/usr/local/lib/python3.7/dist-packages/tmhmm/api.py:20: RuntimeWarning: divide by zero encountered in log\n",
            "  _, path = viterbi(sequence, *model)\n"
          ]
        }
      ]
    },
    {
      "cell_type": "markdown",
      "metadata": {
        "id": "SJ0UDXjTqql9"
      },
      "source": [
        "# Autoimmunity"
      ]
    },
    {
      "cell_type": "code",
      "metadata": {
        "id": "DVpGqY1Vx0tz"
      },
      "source": [
        "# Autoimmunity module\n",
        "\n",
        "blastx_cline = NcbiblastpCommandline(query=path_to_fastas, db=\"./NERVE/sapiens_database/sapiens\", evalue=e_value, outfmt=5, out=\"./sapiens.xml\") # 5 is for xml \n",
        "stdout, stderr = blastx_cline()\n",
        "# print the warning: \"you can find a sapiens.xml file on your working directory which is the outputs of the autoimmunity module. Do not delete during the computation. After the computation it will be deleted in order to avoid future collisions.\"\n",
        "# poi cancella l'output"
      ],
      "execution_count": 9,
      "outputs": []
    },
    {
      "cell_type": "code",
      "metadata": {
        "id": "GuAIEnYuDrIE"
      },
      "source": [
        "#E_VALUE_THRESH = 1e-20 # for an e threshold\n",
        "\n",
        "# for each result in the .xml file...\n",
        "for record in NCBIXML.parse(open(\"./sapiens.xml\")):\n",
        "\n",
        "    query_name = record.query.split(' ')[0] # take only the query id \n",
        "    #print(\"QUERY: \" + record.query)\n",
        "\n",
        "    # take the right candidate to update\n",
        "    tmp_protein = list_of_proteins[0]\n",
        "    for p in list_of_proteins:\n",
        "        if p.id == query_name:\n",
        "            tmp_protein = p\n",
        "\n",
        "    #print(\"Check the id of the corresponding candidate: \" + tmp_protein.id)\n",
        "    # for each effective alignment between the tmp candidate and the human proteome\n",
        "    for alignment in record.alignments:\n",
        "        # collect all the interesting peptides\n",
        "        for hsp in alignment.hsps:\n",
        "            tmp_protein.list_of_shared_human_peps += Protein.Protein.hsp_match_parser(hsp.match)\n",
        "\n",
        "    # print out the peptides (if there are any)\n",
        "    '''\n",
        "    if len(tmp_protein.list_of_shared_human_peps) == 0:\n",
        "        print(\"No interesting peptides.\")\n",
        "    else:\n",
        "        print(\"List of interesting peptides: \" + str(tmp_protein.list_of_shared_human_peps))\n",
        "    print()\n",
        "    '''\n"
      ],
      "execution_count": 19,
      "outputs": []
    },
    {
      "cell_type": "code",
      "metadata": {
        "id": "R2_2FJ4T1dE1"
      },
      "source": [
        "# mhcpep pandas visualization\n",
        "import pandas # pip install pandas if you do not have it\n",
        "mhcpep = pandas.read_csv(\"./NERVE/mhcpep.csv\")\n",
        "# quali sono i peptidi?\n",
        "# come opero il confronto?\n",
        "# realizzare poi la somma della formula \n"
      ],
      "execution_count": 13,
      "outputs": []
    },
    {
      "cell_type": "markdown",
      "metadata": {
        "id": "ug53JaHzpu8T"
      },
      "source": [
        "# Conservation"
      ]
    },
    {
      "cell_type": "code",
      "metadata": {
        "id": "0skh4FwT9U5b"
      },
      "source": [
        "# (optional) Conservation module\n",
        "\n",
        "!makeblastdb -in path_to_another_proteom -dbtype prot -parse_seqids -out \"compare_proteome\"\n",
        "blastx_cline = NcbiblastpCommandline(query=path_to_fastas, db=\"./compare_proteome\", evalue=e_value, outfmt=5, out=\"./comparison.xml\") # 5 is for xml \n",
        "stdout, stderr = blastx_cline()"
      ],
      "execution_count": 14,
      "outputs": []
    },
    {
      "cell_type": "markdown",
      "metadata": {
        "id": "ju5wc-iXqtNe"
      },
      "source": [
        "# Function"
      ]
    },
    {
      "cell_type": "code",
      "metadata": {
        "id": "-AbunEdA9uUp"
      },
      "source": [
        "# Function module\n",
        "# (make blastp on uniprot... NOOOOOO) #!makeblastdb -in \"./uniprot_sprot.fasta\" -dbtype prot -parse_seqids -out \"uniprot\"\n",
        "\n",
        "# prosite information\n",
        "for p in list_of_proteins:\n",
        "    handler = scan(p.sequence)\n",
        "    p.scan_prosite_information = read(scan(p.sequence))\n",
        "\n",
        "\n",
        "# try deepgo! https://deepgo.cbrc.kaust.edu.sa/deepgo/"
      ],
      "execution_count": 15,
      "outputs": []
    },
    {
      "cell_type": "markdown",
      "metadata": {
        "id": "QgjggufEqux_"
      },
      "source": [
        "# Select"
      ]
    },
    {
      "cell_type": "code",
      "metadata": {
        "id": "LlsKlxF89xso"
      },
      "source": [
        "# Select module (filters)\n",
        "# define the ranking"
      ],
      "execution_count": 16,
      "outputs": []
    },
    {
      "cell_type": "markdown",
      "metadata": {
        "id": "Nzpoz00HqwKR"
      },
      "source": [
        "## Print out all the retrieved information about each candidate of the given proteome"
      ]
    },
    {
      "cell_type": "code",
      "metadata": {
        "colab": {
          "base_uri": "https://localhost:8080/"
        },
        "id": "I3IzoiupUPvZ",
        "outputId": "93b15d70-0d0c-409d-c140-2a78860201ba"
      },
      "source": [
        "for protein in list_of_proteins:\n",
        "    protein.print_information()"
      ],
      "execution_count": 17,
      "outputs": [
        {
          "output_type": "stream",
          "name": "stdout",
          "text": [
            "Information about protein sp|P06846|EBGR_ECOLI:\n",
            "   accession number = P06846\n",
            "   length = 327\n",
            "   localization = Cytoplasmic\n",
            "   estimated probability to be an adhesin = 0.01151728630065918\n",
            "   number of transmembrane domains = 0\n",
            "   no interesting peptides shared with sapiens\n",
            "   number of interesting peptides shared with mhcpep = None\n",
            "   putative function of the protein = not yet implemented\n",
            "\n",
            "Information about protein sp|P0AAC4|YBHL_ECOLI:\n",
            "   accession number = P0AAC4\n",
            "   length = 234\n",
            "   localization = CytoplasmicMembrane\n",
            "   estimated probability to be an adhesin = 0.04193472862243652\n",
            "   number of transmembrane domains = 7\n",
            "   list of interesting peptides shared with sapiens = ['+L A++LYL', 'L A++LYLD', 'A++LYLD I', '++LYLD IN', '+LYLD INL', 'LYLD INLF', 'YLD INLFL', 'INLFL LLR']\n",
            "   number of interesting peptides shared with mhcpep = None\n",
            "   putative function of the protein = not yet implemented\n",
            "\n",
            "Information about protein sp|P0AE16|AMPG_ECOLI:\n",
            "   accession number = P0AE16\n",
            "   length = 491\n",
            "   localization = CytoplasmicMembrane\n",
            "   estimated probability to be an adhesin = 0.02877509593963623\n",
            "   number of transmembrane domains = 14\n",
            "   no interesting peptides shared with sapiens\n",
            "   number of interesting peptides shared with mhcpep = None\n",
            "   putative function of the protein = not yet implemented\n",
            "\n"
          ]
        }
      ]
    },
    {
      "cell_type": "code",
      "metadata": {
        "id": "mbtGkxTrUVYl"
      },
      "source": [
        ""
      ],
      "execution_count": 17,
      "outputs": []
    }
  ]
}