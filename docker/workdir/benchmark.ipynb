{
 "cells": [
  {
   "cell_type": "markdown",
   "id": "f7bb7369",
   "metadata": {},
   "source": [
    "### Test NERVE"
   ]
  },
  {
   "cell_type": "code",
   "execution_count": 76,
   "id": "959903e7",
   "metadata": {},
   "outputs": [],
   "source": [
    "import subprocess, os\n",
    "import pandas as pd"
   ]
  },
  {
   "cell_type": "code",
   "execution_count": 47,
   "id": "f447647c",
   "metadata": {},
   "outputs": [],
   "source": [
    "class RunNerve():\n",
    "    \"\"\"Class to store nerve parameters and run NERVE program\"\"\"\n",
    "    def __init__(self):\n",
    "        \"\"\"Initiate arguments and program path\"\"\"\n",
    "        self.args = {'annotation': True, 'e_value': 1e-10, 'gram': None, 'minlength': 9, 'mismatch': 1,\n",
    "                     'mouse': True, 'mouse_peptides_sum_limit': .15, 'proteome1': None, 'proteome2': None, \n",
    "                     'p_ad_extracellular_filter': .38, 'p_ad_no_citoplasm_filter': .46, 'padlimit': .5, \n",
    "                     'razor': True, 'razlen': 50, 'select': True, 'substitution': 3, \n",
    "                     'transmemb_doms_limit': 3, 'virlimit': .5, 'virulent': True, 'working_dir': None, \n",
    "                     'NERVE_dir': '../../', 'iFeature_dir': '/iFeature', 'DeepFri_dir': '/DeepFri'\n",
    "                     }\n",
    "        self.program = \"../../code/NERVE.py\"\n",
    "\n",
    "    def print_args(self):\n",
    "        print(f'Arguments are:\\n{self.args}')\n",
    "        print(f'NERVE executable path is:\\n{self.program}')\n",
    "    \n",
    "    def run(self):\n",
    "        \"\"\"Pass commands to line\n",
    "        program: command/program to run\n",
    "        args: arguments\"\"\"\n",
    "        \n",
    "        program = self.program\n",
    "        args = self.args\n",
    "        for key in args:\n",
    "            args[key] = str(args[key])\n",
    "        \n",
    "        args_list = []\n",
    "        for item in args.items():\n",
    "            args_list.append(f'--{item[0]}')\n",
    "            args_list.append(item[1])\n",
    "        cmd = ['python3'] + [program] + args_list\n",
    "        process = subprocess.Popen(cmd, stdout=subprocess.PIPE)\n",
    "        output, error = process.communicate()\n",
    "        return output, error"
   ]
  },
  {
   "cell_type": "code",
   "execution_count": 32,
   "id": "7ae5e4d2",
   "metadata": {},
   "outputs": [],
   "source": [
    "# prepare files for tuning\n",
    "def to_fasta(df, outfile):\n",
    "    \"\"\"Converts pandas cells to fasta\"\"\"\n",
    "    outfile = open(outfile, 'w')\n",
    "    for index, row in df.iterrows():\n",
    "        outfile.write('>' + row['protein']+ '_' + row['organism name'] + '\\n' + row['sequence'].strip() + '\\n')\n",
    "    outfile.close()\n",
    "\n",
    "df = pd.read_excel('../../database/antigens/test_antigens_summary.xlsx', sheet_name = 'nerve_2_tests')\n",
    "df = df[df['nerve_train'] == 1]\n",
    "df_neg = df[df['gram'] == '-']\n",
    "df_pos = df[df['gram'] == '+']\n",
    "to_fasta(df_neg, './tuning/gram_neg.fasta')\n",
    "to_fasta(df_pos, './tuning/gram_pos.fasta')"
   ]
  },
  {
   "cell_type": "code",
   "execution_count": 83,
   "id": "c54b55ba",
   "metadata": {},
   "outputs": [
    {
     "data": {
      "text/plain": [
       "array(['UP000001978', 'UP000031961', 'UP000070260', 'UP000032903',\n",
       "       'UP000217443', 'UP000001584', 'UP000001020', 'UP000007137'],\n",
       "      dtype=object)"
      ]
     },
     "execution_count": 83,
     "metadata": {},
     "output_type": "execute_result"
    }
   ],
   "source": [
    "df[df['gram'] == '+']['Proteome ID'].unique()"
   ]
  },
  {
   "cell_type": "code",
   "execution_count": 88,
   "id": "8e4fca8c",
   "metadata": {},
   "outputs": [],
   "source": [
    "def tuning(padlimit, virlimit, proteomes_neg=[], proteomes_pos=[]):\n",
    "    \"\"\"Runs NERVE tuning\"\"\"\n",
    "    outdic = {'n': {},\n",
    "              'p': {}}\n",
    "    \n",
    "    gram_neg = RunNerve()\n",
    "    gram_neg.args['proteome1'] = './tuning/gram_neg.fasta'\n",
    "    gram_neg.args['gram'] = 'n'\n",
    "    gram_neg.args.pop('proteome2')\n",
    "    working_dir = f'./tuning/gram_neg_padlimit_{str(padlimit)}_virlimit_{str(virlimit)}'\n",
    "    gram_neg.args['working_dir'] = working_dir\n",
    "    out, err = gram_neg.run()\n",
    "    df_vaccines = pd.read_csv(os.path.join(working_dir, 'vaccine_candidates.csv'))\n",
    "    df_non_vaccines = pd.read_csv(os.path.join(working_dir, 'discarded_proteins.csv'))    \n",
    "    outdic['n']['gram_neg_recall'] = len(df_vaccines) / (len(df_vaccines) + len(df_non_vaccines))\n",
    "    \n",
    "    gram_pos = RunNerve()\n",
    "    gram_pos.args['proteome1'] = './tuning/gram_pos.fasta'\n",
    "    gram_pos.args['gram'] = 'p'\n",
    "    gram_pos.args.pop('proteome2')\n",
    "    working_dir = f'./tuning/gram_pos_padlimit_{str(padlimit)}_virlimit_{str(virlimit)}'\n",
    "    gram_pos.args['working_dir'] = working_dir\n",
    "    out, err = gram_pos.run()\n",
    "    df_vaccines = pd.read_csv(os.path.join(working_dir, 'vaccine_candidates.csv'))\n",
    "    df_non_vaccines = pd.read_csv(os.path.join(working_dir, 'discarded_proteins.csv'))    \n",
    "    outdic['p']['gram_pos_recall'] = len(df_vaccines) / (len(df_vaccines) + len(df_non_vaccines))\n",
    "    \n",
    "    for proteome in proteomes_neg:\n",
    "        prot_run = RunNerve()\n",
    "        prot_run.args['proteome1'] = proteome\n",
    "        prot_run.args['gram'] = 'n'\n",
    "        prot_run.args.pop('proteome2')\n",
    "        working_dir = f'./tuning/{proteome}_gram_n_padlimit_{str(padlimit)}_virlimit_{str(virlimit)}'\n",
    "        prot_run.args['working_dir'] = working_dir\n",
    "        out, err = prot_run.run()\n",
    "        df_vaccines = pd.read_csv(os.path.join(working_dir, 'vaccine_candidates.csv'))\n",
    "        df_non_vaccines = pd.read_csv(os.path.join(working_dir, 'discarded_proteins.csv'))    \n",
    "        outdic['n'][proteome] = len(df_vaccines) / (len(df_vaccines) + len(df_non_vaccines))\n",
    "     \n",
    "    for proteome in proteomes_pos:\n",
    "        prot_run = RunNerve()\n",
    "        prot_run.args['proteome1'] = proteome\n",
    "        prot_run.args['gram'] = 'p'\n",
    "        prot_run.args.pop('proteome2')\n",
    "        working_dir = f'./tuning/{proteome}_gram_n_padlimit_{str(padlimit)}_virlimit_{str(virlimit)}'\n",
    "        prot_run.args['working_dir'] = working_dir\n",
    "        out, err = prot_run.run()\n",
    "        df_vaccines = pd.read_csv(os.path.join(working_dir, 'vaccine_candidates.csv'))\n",
    "        df_non_vaccines = pd.read_csv(os.path.join(working_dir, 'discarded_proteins.csv'))    \n",
    "        outdic['p'][proteome] = len(df_vaccines) / (len(df_vaccines) + len(df_non_vaccines))\n",
    "    \n",
    "    return outdic"
   ]
  },
  {
   "cell_type": "code",
   "execution_count": null,
   "id": "43f23d2a",
   "metadata": {},
   "outputs": [],
   "source": [
    "outdic = tuning(0.5, 0.5, ['UP000000419', 'UP000002676', 'UP000000540'], ['UP000001978', 'UP000031961', 'UP000001584'])\n",
    "outdic"
   ]
  },
  {
   "cell_type": "code",
   "execution_count": 72,
   "id": "310b4d66",
   "metadata": {},
   "outputs": [
    {
     "name": "stdout",
     "output_type": "stream",
     "text": [
      "Arguments are:\n",
      "{'annotation': True, 'e_value': 1e-10, 'gram': 'n', 'minlength': 9, 'mismatch': 1, 'mouse': True, 'mouse_peptides_sum_limit': 0.15, 'proteome1': './tuning/gram_neg.fasta', 'p_ad_extracellular_filter': 0.38, 'p_ad_no_citoplasm_filter': 0.46, 'padlimit': 0.5, 'razor': True, 'razlen': 50, 'select': True, 'substitution': 3, 'transmemb_doms_limit': 3, 'virlimit': 0.5, 'virulent': False, 'working_dir': './tuning/gram_neg_test', 'NERVE_dir': '../../', 'iFeature_dir': '/iFeature', 'DeepFri_dir': '/DeepFri'}\n",
      "NERVE executable path is:\n",
      "../../code/NERVE.py\n"
     ]
    },
    {
     "data": {
      "text/plain": [
       "(b'Start NERVE 1.5\\n10% done\\n20% done\\n30% done\\n40% done\\n50% done\\n60% done\\n70% done\\n80% done\\n90% done\\n100% done\\nEnd NERVE computation successfully.\\n',\n",
       " None)"
      ]
     },
     "execution_count": 72,
     "metadata": {},
     "output_type": "execute_result"
    }
   ],
   "source": [
    "test = RunNerve()\n",
    "test.args['proteome1'] = './tuning/gram_neg.fasta'\n",
    "test.args['gram'] = 'n'\n",
    "test.args.pop('proteome2')\n",
    "test.args['working_dir'] = './tuning/gram_neg_test'\n",
    "test.args['virulent'] = False\n",
    "test.print_args()\n",
    "test.run()"
   ]
  },
  {
   "cell_type": "code",
   "execution_count": 73,
   "id": "f77d74dd",
   "metadata": {},
   "outputs": [
    {
     "name": "stdout",
     "output_type": "stream",
     "text": [
      "Arguments are:\n",
      "{'annotation': True, 'e_value': 1e-10, 'gram': 'n', 'minlength': 9, 'mismatch': 1, 'mouse': True, 'mouse_peptides_sum_limit': 0.15, 'proteome1': './tuning/gram_pos.fasta', 'p_ad_extracellular_filter': 0.38, 'p_ad_no_citoplasm_filter': 0.46, 'padlimit': 0.5, 'razor': True, 'razlen': 50, 'select': True, 'substitution': 3, 'transmemb_doms_limit': 3, 'virlimit': 0.5, 'virulent': False, 'working_dir': './tuning/gram_pos_test', 'NERVE_dir': '../../', 'iFeature_dir': '/iFeature', 'DeepFri_dir': '/DeepFri'}\n",
      "NERVE executable path is:\n",
      "../../code/NERVE.py\n"
     ]
    },
    {
     "data": {
      "text/plain": [
       "(b'Start NERVE 1.5\\n10% done\\n20% done\\n30% done\\n40% done\\n50% done\\n60% done\\n70% done\\n80% done\\n90% done\\n100% done\\nEnd NERVE computation successfully.\\n',\n",
       " None)"
      ]
     },
     "execution_count": 73,
     "metadata": {},
     "output_type": "execute_result"
    }
   ],
   "source": [
    "test = RunNerve()\n",
    "test.args['proteome1'] = './tuning/gram_pos.fasta'\n",
    "test.args['gram'] = 'n'\n",
    "test.args.pop('proteome2')\n",
    "test.args['working_dir'] = './tuning/gram_pos_test'\n",
    "test.args['virulent'] = False\n",
    "test.print_args()\n",
    "test.run()"
   ]
  },
  {
   "cell_type": "code",
   "execution_count": null,
   "id": "da661b38",
   "metadata": {},
   "outputs": [],
   "source": []
  },
  {
   "cell_type": "code",
   "execution_count": null,
   "id": "f9cfbf54",
   "metadata": {},
   "outputs": [],
   "source": [
    "# to do:\n",
    "# remove from nerve output useless files\n",
    "# remove \"DeepFri predictions:\"\n",
    "# split program into modules\n",
    "# remove subcell option"
   ]
  }
 ],
 "metadata": {
  "kernelspec": {
   "display_name": "Python 3 (ipykernel)",
   "language": "python",
   "name": "python3"
  },
  "language_info": {
   "codemirror_mode": {
    "name": "ipython",
    "version": 3
   },
   "file_extension": ".py",
   "mimetype": "text/x-python",
   "name": "python",
   "nbconvert_exporter": "python",
   "pygments_lexer": "ipython3",
   "version": "3.8.13"
  }
 },
 "nbformat": 4,
 "nbformat_minor": 5
}
