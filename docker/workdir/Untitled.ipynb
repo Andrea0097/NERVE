{
 "cells": [
  {
   "cell_type": "markdown",
   "id": "f7bb7369",
   "metadata": {},
   "source": [
    "### Test NERVE"
   ]
  },
  {
   "cell_type": "code",
   "execution_count": 52,
   "id": "43b95a69",
   "metadata": {},
   "outputs": [],
   "source": [
    "import subprocess\n",
    "\n",
    "class RunNerve():\n",
    "    \"\"\"Class to store nerve parameters and run NERVE program\"\"\"\n",
    "    def __init__(self):\n",
    "        \"\"\"Initiate arguments and program path\"\"\"\n",
    "        self.args = {'annotation': True, 'e_value': 1e-10, 'gram': None, 'minlength': 9, 'mismatch': 1,\n",
    "                     'mouse': True, 'mouse_peptides_sum_limit': .15, 'proteome1': None, 'proteome2': None, \n",
    "                     'p_ad_extracellular_filter': .38, 'p_ad_no_citoplasm_filter': .46, 'padlimit': .48, \n",
    "                     'razor': True, 'razlen': 50, 'select': True, 'substitution': 3, 'subcell': 'psortb', \n",
    "                     'transmemb_doms_limit': 3, 'virlimit': .5, 'virulent': True, 'working_dir': None, \n",
    "                     'NERVE_dir': '/NERVE', 'iFeature_dir': '/iFeature', 'DeepFri_dir': '/DeepFri'\n",
    "                     }\n",
    "        self.program = \"../NERVE/NERVE/NERVE_main.py\"\n",
    "\n",
    "    def print_args(self):\n",
    "        print(f'Arguments are:\\n{self.args}')\n",
    "        print(f'NERVE executable path is:\\n{self.program}')\n",
    "    \n",
    "    def run(self):\n",
    "        \"\"\"Pass commands to line\n",
    "        program: command/program to run\n",
    "        args: arguments\"\"\"\n",
    "        \n",
    "        program = self.program\n",
    "        args = self.args\n",
    "        for key in args:\n",
    "            args[key] = str(args[key])\n",
    "        \n",
    "        args_list = []\n",
    "        for item in args.items():\n",
    "            args_list.append(f'--{item[0]}')\n",
    "            args_list.append(item[1])\n",
    "        cmd = [program] + args_list\n",
    "        process = subprocess.Popen(cmd, stdout=subprocess.PIPE)\n",
    "        output, error = process.communicate()\n",
    "        return output, error"
   ]
  },
  {
   "cell_type": "code",
   "execution_count": null,
   "id": "64191083",
   "metadata": {},
   "outputs": [
    {
     "name": "stdout",
     "output_type": "stream",
     "text": [
      "Arguments are:\n",
      "{'annotation': True, 'e_value': 1e-10, 'gram': 'n', 'minlength': 9, 'mismatch': 1, 'mouse': True, 'mouse_peptides_sum_limit': 0.15, 'proteome1': 'UP000000425', 'p_ad_extracellular_filter': 0.38, 'p_ad_no_citoplasm_filter': 0.46, 'padlimit': 0.48, 'razor': True, 'razlen': 50, 'select': True, 'substitution': 3, 'subcell': 'psortb', 'transmemb_doms_limit': 3, 'virlimit': 0.5, 'virulent': True, 'working_dir': './test', 'NERVE_dir': '/NERVE', 'iFeature_dir': '/iFeature', 'DeepFri_dir': '/DeepFri'}\n",
      "NERVE executable path is:\n",
      "../NERVE/NERVE/NERVE_main.py\n"
     ]
    }
   ],
   "source": [
    "test = RunNerve()\n",
    "test.args['proteome1'] = 'UP000000425'\n",
    "test.args['gram'] = 'n'\n",
    "test.args.pop('proteome2')\n",
    "test.args['working_dir'] = './test'\n",
    "test.print_args()\n",
    "test.run()"
   ]
  },
  {
   "cell_type": "code",
   "execution_count": null,
   "id": "f9cfbf54",
   "metadata": {},
   "outputs": [],
   "source": []
  },
  {
   "cell_type": "code",
   "execution_count": null,
   "id": "698ac119",
   "metadata": {},
   "outputs": [],
   "source": []
  }
 ],
 "metadata": {
  "kernelspec": {
   "display_name": "Python 3 (ipykernel)",
   "language": "python",
   "name": "python3"
  },
  "language_info": {
   "codemirror_mode": {
    "name": "ipython",
    "version": 3
   },
   "file_extension": ".py",
   "mimetype": "text/x-python",
   "name": "python",
   "nbconvert_exporter": "python",
   "pygments_lexer": "ipython3",
   "version": "3.8.13"
  }
 },
 "nbformat": 4,
 "nbformat_minor": 5
}
