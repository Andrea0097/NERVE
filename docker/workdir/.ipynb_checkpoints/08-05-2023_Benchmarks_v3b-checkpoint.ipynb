{
 "cells": [
  {
   "cell_type": "markdown",
   "id": "f7bb7369",
   "metadata": {},
   "source": [
    "### Tune and test NERVE"
   ]
  },
  {
   "cell_type": "code",
   "execution_count": null,
   "id": "4090b16f",
   "metadata": {},
   "outputs": [],
   "source": [
    "### Implement new version of select module"
   ]
  },
  {
   "cell_type": "code",
   "execution_count": 18,
   "id": "08e9274a",
   "metadata": {
    "vscode": {
     "languageId": "python"
    }
   },
   "outputs": [],
   "source": [
    "import subprocess, os\n",
    "import pandas as pd\n",
    "from code import Protein\n",
    "import numpy as np\n",
    "from scipy.stats import hypergeom as hg\n",
    "import matplotlib.pyplot as plt\n",
    "import random"
   ]
  },
  {
   "cell_type": "code",
   "execution_count": 19,
   "id": "f447647c",
   "metadata": {
    "vscode": {
     "languageId": "python"
    }
   },
   "outputs": [],
   "source": [
    "class RunNerve():\n",
    "    \"\"\"Class to store nerve parameters and run NERVE program\"\"\"\n",
    "    def __init__(self):\n",
    "        \"\"\"Initiate arguments and program path\"\"\"\n",
    "        self.args = {'annotation': True, 'e_value': 1e-10, 'gram': None, 'minlength': 9, 'mismatch': 1,\n",
    "                     'mouse': True, 'mouse_peptides_sum_limit': .15, 'proteome1': None, 'proteome2': None, \n",
    "                     'p_ad_extracellular_filter': .38, 'p_ad_no_citoplasm_filter': .46, 'padlimit': .5, \n",
    "                     'razor': True, 'razlen': 50, 'select': True, 'substitution': 3, \n",
    "                     'transmemb_doms_limit': 3, 'virlimit': .5, 'virulent': True, 'working_dir': None, \n",
    "                     'NERVE_dir': '../../', 'iFeature_dir': '/iFeature', 'DeepFri_dir': '/DeepFri'\n",
    "                     }\n",
    "        self.program = \"../../code/NERVE.py\"\n",
    "\n",
    "    def print_args(self):\n",
    "        print(f'Arguments are:\\n{self.args}')\n",
    "        print(f'NERVE executable path is:\\n{self.program}')\n",
    "    \n",
    "    def run(self):\n",
    "        \"\"\"Pass commands to line\n",
    "        program: command/program to run\n",
    "        args: arguments\"\"\"\n",
    "        \n",
    "        program = self.program\n",
    "        args = self.args\n",
    "        for key in args:\n",
    "            args[key] = str(args[key])\n",
    "        \n",
    "        args_list = []\n",
    "        for item in args.items():\n",
    "            args_list.append(f'--{item[0]}')\n",
    "            args_list.append(item[1])\n",
    "        cmd = ['python3'] + [program] + args_list\n",
    "        process = subprocess.Popen(cmd, stdout=subprocess.PIPE)\n",
    "        output, error = process.communicate()\n",
    "        return output, error"
   ]
  },
  {
   "cell_type": "code",
   "execution_count": 20,
   "id": "7469d5b6",
   "metadata": {
    "vscode": {
     "languageId": "python"
    }
   },
   "outputs": [],
   "source": [
    "class Localization:\n",
    "        \"\"\"class to store and handle protein subcellular localizations\"\"\"\n",
    "        def __init__(self, localization, reliability):\n",
    "            self.localization = str(localization)\n",
    "            self.reliability = float(reliability)\n",
    "\n",
    "def protein_loader(proteome):\n",
    "    \n",
    "    if type(proteome) != pd.DataFrame:\n",
    "        df = pd.read_csv(proteome)\n",
    "    else:\n",
    "        df = proteome\n",
    "    df = df.astype(object).where(pd.notnull(df),None)\n",
    "    list_of_proteins = []\n",
    "    for index, row in df.iterrows():\n",
    "        protein = Protein.Protein(row['id'], row['sequence'])\n",
    "        protein.accession = row['uniprot_accession_code']\n",
    "        protein.length = row['length']\n",
    "        protein.transmembrane_doms = 0 if row['transmembrane_doms'] == None else row['transmembrane_doms']\n",
    "        protein.localization = [Localization(row['localization'], row['localization score'])]\n",
    "        protein.p_vir = row['virulence_probability']\n",
    "        protein.p_ad = row['adhesin_probability']\n",
    "        protein.conservation_score = row['conservation_score']\n",
    "        protein.shared_human_peps = 0 if row['shared_human_peps'] == None else row['shared_human_peps']\n",
    "        protein.shared_mouse_peps = 0 if row['shared_mouse_peps'] == None else row['shared_mouse_peps']\n",
    "        protein.shared_conserv_proteome_peps = 0 if row['shared_conserv_proteome_peps'] == None else row['shared_conserv_proteome_peps']\n",
    "        protein.sapiens_peptides_sum = 0 if row['human_peptides_sum'] == None else row['human_peptides_sum']\n",
    "        protein.mouse_peptides_sum = 0 if row['mouse_peptides_sum'] == None else row['mouse_peptides_sum']\n",
    "        protein.annotations = row['annotations']\n",
    "        protein.list_of_peptides_from_comparison_with_mhcpep_sapiens = [] if \\\n",
    "        row['list_of_peptides_from_comparison_with_mhcpep_sapiens'] == None else \\\n",
    "        [peptide for peptide in range(len(row['list_of_peptides_from_comparison_with_mhcpep_sapiens']))]\n",
    "        protein.list_of_peptides_from_comparison_with_mhcpep_mouse = [] if \\\n",
    "        row['list_of_peptides_from_comparison_with_mhcpep_mouse'] == None else \\\n",
    "        [peptide for peptide in range(len(row['list_of_peptides_from_comparison_with_mhcpep_mouse']))]\n",
    "        protein.original_sequence_if_razor = row['original_sequence_if_razor']\n",
    "        protein.tmhmm_seq = row['tmhmm_seq']\n",
    "        list_of_proteins.append(protein)\n",
    "    return list_of_proteins\n",
    "\n",
    "def select(list_of_proteins, transmemb_doms_limit,\n",
    "           padlimit, mouse, mouse_peptides_sum_limit, virlimit, virulent, razor)->list:\n",
    "    \"\"\"Selects suitable candidate proteins for vaccine production\"\"\"\n",
    "        \n",
    "    final_list = []\n",
    "    for protein in list_of_proteins:\n",
    "        if protein.localization[0].localization == \"Cytoplasmic\" or protein.localization[0].reliability < 7.49: continue\n",
    "        if virulent == 'False':\n",
    "            if protein.p_ad < padlimit: continue\n",
    "        if virulent == 'True':\n",
    "            if protein.p_ad < padlimit and protein.p_vir < virlimit: continue\n",
    "        if razor == 'True':\n",
    "            if (protein.transmembrane_doms >= transmemb_doms_limit) and (protein.original_sequence_if_razor is None): continue\n",
    "        if razor == 'False':\n",
    "            if protein.transmembrane_doms >= transmemb_doms_limit: continue\n",
    "        if protein.sapiens_peptides_sum > .15: continue\n",
    "        if len(protein.list_of_peptides_from_comparison_with_mhcpep_sapiens) >= 1: continue\n",
    "        if mouse == \"True\":\n",
    "            if protein.mouse_peptides_sum > mouse_peptides_sum_limit: continue \n",
    "            if len(protein.list_of_peptides_from_comparison_with_mhcpep_mouse) >= 1: continue\n",
    "\n",
    "        final_list.append(protein)\n",
    "    return final_list   \n",
    "\n"
   ]
  },
  {
   "cell_type": "markdown",
   "id": "763847bb",
   "metadata": {},
   "source": [
    "### Prepare files for tuning"
   ]
  },
  {
   "cell_type": "code",
   "execution_count": 21,
   "id": "410cd856",
   "metadata": {
    "vscode": {
     "languageId": "python"
    }
   },
   "outputs": [],
   "source": [
    "# prepare files for tuning\n",
    "def to_fasta(df, outfile):\n",
    "    \"\"\"Converts pandas cells to fasta\"\"\"\n",
    "    outfile = open(outfile, 'w')\n",
    "    for index, row in df.iterrows():\n",
    "        outfile.write('>' + row['protein']+ '_' + row['organism name'] + '\\n'\\\n",
    "                      + row['sequence'].replace(\" \", \"\") + '\\n')\n",
    "    outfile.close()"
   ]
  },
  {
   "cell_type": "code",
   "execution_count": null,
   "id": "a6ed6775",
   "metadata": {
    "vscode": {
     "languageId": "python"
    }
   },
   "outputs": [],
   "source": [
    "# NERVE2\n",
    "\n",
    "df = pd.read_excel('../../database/antigens/test_antigens_summary_v2.xlsx', sheet_name = 'nerve_2_tests')\n",
    "df = df[df['Nerve_2_test'] != 1]\n",
    "df_neg = df[df['gram'] == '-']\n",
    "df_pos = df[df['gram'] == '+']\n",
    "to_fasta(df_neg, './tuning/gram_neg_2/gram_neg_2.fasta')\n",
    "to_fasta(df_pos, './tuning/gram_pos_2/gram_pos_2.fasta')"
   ]
  },
  {
   "cell_type": "code",
   "execution_count": null,
   "id": "f315465a",
   "metadata": {
    "vscode": {
     "languageId": "python"
    }
   },
   "outputs": [],
   "source": [
    "# NERVE 1\n",
    "\n",
    "df = pd.read_excel('../../database/antigens/test_antigens_summary_v2.xlsx', sheet_name = 'nerve_1_tests')\n",
    "df_neg = df[df['gram'] == '-']\n",
    "df_pos = df[df['gram'] == '+']\n",
    "to_fasta(df_neg, './tuning/gram_neg_1/gram_neg_1.fasta')\n",
    "to_fasta(df_pos, './tuning/gram_pos_1/gram_pos_1.fasta')"
   ]
  },
  {
   "cell_type": "code",
   "execution_count": null,
   "id": "43858bf6",
   "metadata": {
    "vscode": {
     "languageId": "python"
    }
   },
   "outputs": [],
   "source": [
    "# Run nerve on gram positive and negative datasets\n",
    "\n",
    "for test_set, gram in zip(['gram_neg_1', 'gram_pos_1', 'gram_neg_2', 'gram_pos_2'], \n",
    "                         ['n', 'p', 'n', 'p']):\n",
    "    \n",
    "    nerve_run = RunNerve()\n",
    "    nerve_run.args['proteome1'] = f'./tuning/{test_set}/{test_set}.fasta'\n",
    "    nerve_run.args['gram'] = gram\n",
    "    nerve_run.args.pop('proteome2')\n",
    "    nerve_run.args['select'] = False\n",
    "    nerve_run.args['working_dir'] = f'./tuning/{test_set}/'\n",
    "    out, err = nerve_run.run()\n"
   ]
  },
  {
   "cell_type": "markdown",
   "id": "42f132ab",
   "metadata": {},
   "source": [
    "### Run tuning"
   ]
  },
  {
   "cell_type": "code",
   "execution_count": null,
   "id": "31a79349",
   "metadata": {
    "vscode": {
     "languageId": "python"
    }
   },
   "outputs": [],
   "source": [
    "len(pd.read_excel('../../database/antigens/test_antigens_summary_v2.xlsx', sheet_name = 'nerve_2_tests'))"
   ]
  },
  {
   "cell_type": "code",
   "execution_count": null,
   "id": "11b54fd2",
   "metadata": {
    "vscode": {
     "languageId": "python"
    }
   },
   "outputs": [],
   "source": [
    "nerve_2_tuning = pd.read_excel('../../database/antigens/test_antigens_summary_v2.xlsx', sheet_name = 'nerve_2_tests')\n",
    "nerve_2_tuning = nerve_2_tuning[(nerve_2_tuning['Nerve_2_test'] != 1)]\n",
    "tuning_proteomes  = list(nerve_2_tuning['Proteome ID'].unique())\n",
    "print(f'Proteomes: {len(tuning_proteomes)}, antigens: {len(nerve_2_tuning)}')"
   ]
  },
  {
   "cell_type": "code",
   "execution_count": null,
   "id": "4bc68f7a",
   "metadata": {
    "vscode": {
     "languageId": "python"
    }
   },
   "outputs": [],
   "source": [
    "# run parameter grid search and collect accuracy, coverage, p-value\n",
    "CONDITIONS = [i/100 for i in range(50, 100, 5)]\n",
    "\n",
    "# read in precomputaded nerve predictions on known antigens\n",
    "nerve_2_tuning_results = pd.read_csv('./tuning/nerve_2_tuning/vaccine_candidates.csv')\n",
    "\n",
    "outlist = []\n",
    "for condition in CONDITIONS:\n",
    "    number_of_selected_proteins = 0\n",
    "    number_of_total_proteins = 0\n",
    "    padlimit = condition\n",
    "    virlimit = 0.5\n",
    "    \n",
    "    # evaluate for known antigens\n",
    "    list_of_known_antigens = protein_loader(nerve_2_tuning_results)\n",
    "    list_of_known_antigens_seqs = [protein.sequence for protein in list_of_known_antigens]\n",
    "    selected_antigens = select(list_of_proteins = list_of_known_antigens,\n",
    "                        transmemb_doms_limit = 3,\n",
    "                        padlimit = padlimit, mouse = \"False\",\n",
    "                        mouse_peptides_sum_limit = .15, razor = 'False',\n",
    "                        virlimit = virlimit, virulent = \"False\")\n",
    "    # evaluate for proteomes\n",
    "    for proteome in tuning_proteomes:\n",
    "        path = os.path.join('./tuning/', proteome, 'vaccine_candidates.csv')\n",
    "        list_of_proteins = protein_loader(path)\n",
    "        for protein in list_of_proteins:\n",
    "            if protein.sequence in list_of_known_antigens_seqs:\n",
    "                list_of_proteins.remove(protein)\n",
    "        selected_proteins = select(list_of_proteins = list_of_proteins,\n",
    "                            transmemb_doms_limit = 3,\n",
    "                            padlimit = padlimit, mouse = \"False\",\n",
    "                            mouse_peptides_sum_limit = .15, razor = 'False',\n",
    "                            virlimit = virlimit, virulent = \"False\")\n",
    "        # populate values\n",
    "        number_of_selected_proteins += len(selected_proteins)\n",
    "        number_of_total_proteins += len(list_of_proteins)\n",
    "        \n",
    "    number_of_selected_proteins = number_of_selected_proteins + len(selected_antigens)\n",
    "    number_of_total_proteins = number_of_total_proteins + len(list_of_known_antigens)\n",
    "    \n",
    "    expected_bpas = round((len(list_of_known_antigens) * number_of_selected_proteins) / number_of_total_proteins, 2)\n",
    "    values = [virlimit, padlimit, round((len(selected_antigens) / len(list_of_known_antigens))*100, 2),\n",
    "                    round((number_of_selected_proteins / number_of_total_proteins)*100, 2),  \n",
    "                   expected_bpas, round(len(selected_antigens)/expected_bpas, 2), \n",
    "                    hg.sf(len(selected_antigens)-1, \n",
    "                          number_of_total_proteins, len(list_of_known_antigens), number_of_selected_proteins)]\n",
    "    print(values)\n",
    "    outlist.append(values)"
   ]
  },
  {
   "cell_type": "code",
   "execution_count": null,
   "id": "9aac1004",
   "metadata": {
    "vscode": {
     "languageId": "python"
    }
   },
   "outputs": [],
   "source": [
    "df = pd.DataFrame(outlist, columns = ['virlimit', 'padlimit', 'recall (%)',\n",
    "                                'coverage (%)', 'expected_bpas', 'fold-enrichment', 'p-value'])\n",
    "df"
   ]
  },
  {
   "cell_type": "code",
   "execution_count": null,
   "id": "48d0b296",
   "metadata": {
    "vscode": {
     "languageId": "python"
    }
   },
   "outputs": [],
   "source": [
    "new_column = df.virlimit.unique()\n",
    "new_index = df.padlimit.unique()\n",
    "plot_outlist = []\n",
    "for index in new_index:\n",
    "    tmp_row = []\n",
    "    for column in new_column:\n",
    "        tmp_accuracy = df[(df.padlimit == index) & (df.virlimit == column)]['recall (%)'].to_list()[0]\n",
    "        tmp_row.append(tmp_accuracy)\n",
    "    plot_outlist.append(tmp_row)\n",
    "plot_df = pd.DataFrame(plot_outlist, index=new_index, columns=new_column)\n",
    "\n",
    "plt.imshow(plot_df, cmap =\"RdYlBu\", )\n",
    "plt.colorbar(label='Recall (%)')\n",
    "plt.xticks(range(len(plot_df)), plot_df.columns)\n",
    "plt.yticks(range(len(plot_df)), plot_df.index)\n",
    "plt.xlabel('virlimit')\n",
    "plt.ylabel('padlimit')\n",
    "plt.show()"
   ]
  },
  {
   "cell_type": "code",
   "execution_count": null,
   "id": "74ca6fc1",
   "metadata": {
    "vscode": {
     "languageId": "python"
    }
   },
   "outputs": [],
   "source": [
    "new_column = df.virlimit.unique()\n",
    "new_index = df.padlimit.unique()\n",
    "plot_outlist = []\n",
    "for index in new_index:\n",
    "    tmp_row = []\n",
    "    for column in new_column:\n",
    "        tmp_accuracy = df[(df.padlimit == index) & (df.virlimit == column)]['coverage (%)'].to_list()[0]\n",
    "        tmp_row.append(tmp_accuracy)\n",
    "    plot_outlist.append(tmp_row)\n",
    "plot_df = pd.DataFrame(plot_outlist, index=new_index, columns=new_column)\n",
    "\n",
    "plt.imshow(plot_df, cmap =\"RdYlBu\", )\n",
    "plt.colorbar(label='Coverage (%)')\n",
    "plt.xticks(range(len(plot_df)), plot_df.columns)\n",
    "plt.yticks(range(len(plot_df)), plot_df.index)\n",
    "plt.xlabel('virlimit')\n",
    "plt.ylabel('padlimit')\n",
    "plt.show()"
   ]
  },
  {
   "cell_type": "code",
   "execution_count": null,
   "id": "f48667e8",
   "metadata": {
    "scrolled": true,
    "vscode": {
     "languageId": "python"
    }
   },
   "outputs": [],
   "source": [
    "new_column = df.virlimit.unique()\n",
    "new_index = df.padlimit.unique()\n",
    "plot_outlist = []\n",
    "for index in new_index:\n",
    "    tmp_row = []\n",
    "    for column in new_column:\n",
    "        tmp_accuracy = df[(df.padlimit == index) & (df.virlimit == column)]['fold-enrichment'].to_list()[0]\n",
    "        tmp_row.append(tmp_accuracy)\n",
    "    plot_outlist.append(tmp_row)\n",
    "plot_df = pd.DataFrame(plot_outlist, index=new_index, columns=new_column)\n",
    "\n",
    "plt.imshow(plot_df, cmap =\"RdYlBu\", )\n",
    "plt.colorbar(label='fold-enrichment')# format='%.0e')\n",
    "plt.xticks(range(len(plot_df)), plot_df.columns)\n",
    "plt.yticks(range(len(plot_df)), plot_df.index)\n",
    "plt.xlabel('virlimit')\n",
    "plt.ylabel('padlimit')\n",
    "plt.show()"
   ]
  },
  {
   "cell_type": "code",
   "execution_count": null,
   "id": "7ec85791",
   "metadata": {
    "vscode": {
     "languageId": "python"
    }
   },
   "outputs": [],
   "source": [
    "#df.to_csv('./tuning/NERVE_2_tuning.csv', index=False)"
   ]
  },
  {
   "cell_type": "code",
   "execution_count": null,
   "id": "eeab24fe",
   "metadata": {
    "vscode": {
     "languageId": "python"
    }
   },
   "outputs": [],
   "source": [
    "# same on nerve 1 dataset\n",
    "\n",
    "nerve_1_tuning = pd.read_excel('../../database/antigens/test_antigens_summary_v2.xlsx', sheet_name = 'nerve_1_tests')\n",
    "nerve_1_tuning = nerve_1_tuning[nerve_1_tuning['nerve_1_test'] != 1]\n",
    "tuning_proteomes  = list(nerve_1_tuning['Proteome ID'].unique())\n",
    "print(f'Proteomes: {len(tuning_proteomes)}, antigens: {len(nerve_1_tuning)}')"
   ]
  },
  {
   "cell_type": "code",
   "execution_count": null,
   "id": "3929ad23",
   "metadata": {
    "vscode": {
     "languageId": "python"
    }
   },
   "outputs": [],
   "source": [
    "# run parameter grid search and collect accuracy, coverage, p-value\n",
    "CONDITIONS = [[i/100, s/100] for i in range(50, 100, 5) for s in range(50, 100, 5)]\n",
    "\n",
    "# read in precomputaded nerve predictions on known antigens\n",
    "nerve_2_tuning_results = pd.read_csv('./tuning/nerve_2_tuning/vaccine_candidates.csv')\n",
    "\n",
    "outlist = []\n",
    "for condition in CONDITIONS:\n",
    "    number_of_selected_proteins = 0\n",
    "    number_of_total_proteins = 0\n",
    "    virlimit, padlimit = condition\n",
    "    \n",
    "    # evaluate for known antigens\n",
    "    list_of_known_antigens = protein_loader(nerve_2_tuning_results)\n",
    "    list_of_known_antigens_seqs = [protein.sequence for protein in list_of_known_antigens]\n",
    "    selected_antigens = select(list_of_proteins = list_of_known_antigens,\n",
    "                        transmemb_doms_limit = 3,\n",
    "                        padlimit = padlimit, mouse = \"True\",\n",
    "                        mouse_peptides_sum_limit = .15,\n",
    "                        virlimit = virlimit, virulent = \"True\")\n",
    "    # evaluate for proteomes\n",
    "    for proteome in tuning_proteomes:\n",
    "        path = os.path.join('./tuning/', proteome, 'vaccine_candidates.csv')\n",
    "        list_of_proteins = protein_loader(path)\n",
    "        for protein in list_of_proteins:\n",
    "            if protein.sequence in list_of_known_antigens_seqs:\n",
    "                list_of_proteins.remove(protein)\n",
    "        selected_proteins = select(list_of_proteins = list_of_proteins,\n",
    "                            transmemb_doms_limit = 3,\n",
    "                            padlimit = padlimit, mouse = \"True\",\n",
    "                            mouse_peptides_sum_limit = .15,\n",
    "                            virlimit = virlimit, virulent = \"True\")\n",
    "        # populate values\n",
    "        number_of_selected_proteins += len(selected_proteins)\n",
    "        number_of_total_proteins += len(list_of_proteins)\n",
    "        \n",
    "    number_of_selected_proteins = number_of_selected_proteins + len(selected_antigens)\n",
    "    number_of_total_proteins = number_of_total_proteins + len(list_of_known_antigens)\n",
    "    \n",
    "    expected_bpas = round((len(list_of_known_antigens) * number_of_selected_proteins) / number_of_total_proteins, 2)\n",
    "    values = [virlimit, padlimit, round((len(selected_antigens) / len(list_of_known_antigens))*100, 2),\n",
    "                    round((number_of_selected_proteins / number_of_total_proteins)*100, 2),  \n",
    "                   expected_bpas, round(len(selected_antigens)/expected_bpas, 2), \n",
    "                    hg.sf(len(selected_antigens)-1, \n",
    "                          number_of_total_proteins, len(list_of_known_antigens), number_of_selected_proteins)]\n",
    "    #print(values)\n",
    "    outlist.append(values)"
   ]
  },
  {
   "cell_type": "code",
   "execution_count": null,
   "id": "e89a5d9d",
   "metadata": {
    "vscode": {
     "languageId": "python"
    }
   },
   "outputs": [],
   "source": [
    "df = pd.DataFrame(outlist, columns = ['virlimit', 'padlimit', 'recall (%)',\n",
    "                                'coverage (%)', 'expected_bpas', 'fold-enrichment', 'p-value'])\n",
    "df"
   ]
  },
  {
   "cell_type": "code",
   "execution_count": null,
   "id": "97feaf6a",
   "metadata": {
    "vscode": {
     "languageId": "python"
    }
   },
   "outputs": [],
   "source": [
    "new_column = df.virlimit.unique()\n",
    "new_index = df.padlimit.unique()\n",
    "plot_outlist = []\n",
    "for index in new_index:\n",
    "    tmp_row = []\n",
    "    for column in new_column:\n",
    "        tmp_accuracy = df[(df.padlimit == index) & (df.virlimit == column)]['recall (%)'].to_list()[0]\n",
    "        tmp_row.append(tmp_accuracy)\n",
    "    plot_outlist.append(tmp_row)\n",
    "plot_df = pd.DataFrame(plot_outlist, index=new_index, columns=new_column)\n",
    "\n",
    "plt.imshow(plot_df, cmap =\"RdYlBu\", )\n",
    "plt.colorbar(label='recall (%)')\n",
    "plt.xticks(range(len(plot_df)), plot_df.columns)\n",
    "plt.yticks(range(len(plot_df)), plot_df.index)\n",
    "plt.xlabel('virlimit')\n",
    "plt.ylabel('padlimit')\n",
    "plt.show()"
   ]
  },
  {
   "cell_type": "code",
   "execution_count": null,
   "id": "1da900cf",
   "metadata": {
    "vscode": {
     "languageId": "python"
    }
   },
   "outputs": [],
   "source": [
    "new_column = df.virlimit.unique()\n",
    "new_index = df.padlimit.unique()\n",
    "plot_outlist = []\n",
    "for index in new_index:\n",
    "    tmp_row = []\n",
    "    for column in new_column:\n",
    "        tmp_accuracy = df[(df.padlimit == index) & (df.virlimit == column)]['coverage (%)'].to_list()[0]\n",
    "        tmp_row.append(tmp_accuracy)\n",
    "    plot_outlist.append(tmp_row)\n",
    "plot_df = pd.DataFrame(plot_outlist, index=new_index, columns=new_column)\n",
    "\n",
    "plt.imshow(plot_df, cmap =\"RdYlBu\", )\n",
    "plt.colorbar(label='Coverage (%)')\n",
    "plt.xticks(range(len(plot_df)), plot_df.columns)\n",
    "plt.yticks(range(len(plot_df)), plot_df.index)\n",
    "plt.xlabel('virlimit')\n",
    "plt.ylabel('padlimit')\n",
    "plt.show()"
   ]
  },
  {
   "cell_type": "code",
   "execution_count": null,
   "id": "dfc7dce0",
   "metadata": {
    "vscode": {
     "languageId": "python"
    }
   },
   "outputs": [],
   "source": [
    "new_column = df.virlimit.unique()\n",
    "new_index = df.padlimit.unique()\n",
    "plot_outlist = []\n",
    "for index in new_index:\n",
    "    tmp_row = []\n",
    "    for column in new_column:\n",
    "        tmp_accuracy = df[(df.padlimit == index) & (df.virlimit == column)]['fold-enrichment'].to_list()[0]\n",
    "        tmp_row.append(tmp_accuracy)\n",
    "    plot_outlist.append(tmp_row)\n",
    "plot_df = pd.DataFrame(plot_outlist, index=new_index, columns=new_column)\n",
    "\n",
    "plt.imshow(plot_df, cmap =\"RdYlBu\", )\n",
    "plt.colorbar(label='fold-enrichment')# format='%.0e')\n",
    "plt.xticks(range(len(plot_df)), plot_df.columns)\n",
    "plt.yticks(range(len(plot_df)), plot_df.index)\n",
    "plt.xlabel('virlimit')\n",
    "plt.ylabel('padlimit')\n",
    "plt.show()"
   ]
  },
  {
   "cell_type": "code",
   "execution_count": null,
   "id": "cc71bf29",
   "metadata": {
    "vscode": {
     "languageId": "python"
    }
   },
   "outputs": [],
   "source": [
    "df.to_csv('./tuning/NERVE_1_tuning.csv', index=False)"
   ]
  },
  {
   "cell_type": "markdown",
   "id": "53b751b5",
   "metadata": {},
   "source": [
    "### Run k-fold cross-validation on NERVE_2 data"
   ]
  },
  {
   "cell_type": "code",
   "execution_count": 7,
   "id": "bd12d218",
   "metadata": {
    "vscode": {
     "languageId": "python"
    }
   },
   "outputs": [],
   "source": [
    "nerve_2_tuning = pd.read_excel('../../database/antigens/test_antigens_summary_v2.xlsx',\n",
    "                               sheet_name = 'nerve_2_tests')\n",
    "nerve_2_tuning = nerve_2_tuning[(nerve_2_tuning['Nerve_2_test'] != 1)]"
   ]
  },
  {
   "cell_type": "code",
   "execution_count": 8,
   "id": "25699938",
   "metadata": {
    "vscode": {
     "languageId": "python"
    }
   },
   "outputs": [
    {
     "name": "stdout",
     "output_type": "stream",
     "text": [
      "1.8708286933869707 476\n"
     ]
    }
   ],
   "source": [
    "# find split with lower difference bwtween groups\n",
    "sem = 100\n",
    "random_num = 0\n",
    "for i in range(2000):\n",
    "    proteomes = nerve_2_tuning['Proteome ID'].unique()\n",
    "    random.seed(i)\n",
    "    random.shuffle(proteomes)\n",
    "    outlist = []\n",
    "    for index, row in nerve_2_tuning.iterrows():\n",
    "        proteome = row['Proteome ID']\n",
    "        if proteome in proteomes[0:7]:\n",
    "            outlist.append(0)     \n",
    "        if proteome in proteomes[7:15]:\n",
    "            outlist.append(1)\n",
    "        if proteome in proteomes[15:22]:\n",
    "            outlist.append(2)\n",
    "        if proteome in proteomes[22:34]:\n",
    "            outlist.append(3)\n",
    "    nerve_2_tuning['class'] = outlist\n",
    "    tmp_sem = nerve_2_tuning[['class']].value_counts().sem()\n",
    "    if tmp_sem < sem:\n",
    "        sem = tmp_sem\n",
    "        random_num = i\n",
    "print(sem, random_num)"
   ]
  },
  {
   "cell_type": "code",
   "execution_count": 9,
   "id": "21334bcb",
   "metadata": {
    "vscode": {
     "languageId": "python"
    }
   },
   "outputs": [
    {
     "data": {
      "image/png": "[encoded data removed]",
      "text/plain": [
       "<Figure size 640x480 with 1 Axes>"
      ]
     },
     "metadata": {},
     "output_type": "display_data"
    }
   ],
   "source": [
    "# split the dataset into 5\n",
    "\n",
    "proteomes = nerve_2_tuning['Proteome ID'].unique()\n",
    "random.seed(476)\n",
    "random.shuffle(proteomes)\n",
    "outlist = []\n",
    "for index, row in nerve_2_tuning.iterrows():\n",
    "    proteome = row['Proteome ID']\n",
    "    if proteome in proteomes[0:7]:\n",
    "        outlist.append(0)     \n",
    "    if proteome in proteomes[7:15]:\n",
    "        outlist.append(1)\n",
    "    if proteome in proteomes[15:22]:\n",
    "        outlist.append(2)\n",
    "    if proteome in proteomes[22:34]:\n",
    "        outlist.append(3)\n",
    "nerve_2_tuning['class'] = outlist\n",
    "tmp_sem = nerve_2_tuning[['class']].plot.hist()"
   ]
  },
  {
   "cell_type": "code",
   "execution_count": 10,
   "id": "0dbd7604",
   "metadata": {
    "vscode": {
     "languageId": "python"
    }
   },
   "outputs": [
    {
     "name": "stdout",
     "output_type": "stream",
     "text": [
      "2    virlimit  padlimit  recall (%)  coverage (%)  expected_bpas  \\\n",
      "0       0.5       0.5        25.0          2.07           1.57   \n",
      "\n",
      "   fold-enrichment       p-value  \n",
      "0             12.1  1.130683e-15  \n",
      "[2, 0.5, 0.5, 6.25, 0.58, 0.18, 11.11, 0.014749577373975618]\n",
      "0    virlimit  padlimit  recall (%)  coverage (%)  expected_bpas  \\\n",
      "0       0.5       0.5       16.05          1.87           1.52   \n",
      "\n",
      "   fold-enrichment       p-value  \n",
      "0             8.55  3.825905e-09  \n",
      "[0, 0.5, 0.5, 29.63, 0.71, 0.19, 42.11, 1.2298823091929166e-11]\n",
      "1    virlimit  padlimit  recall (%)  coverage (%)  expected_bpas  \\\n",
      "0       0.5       0.5       18.82           2.0            1.7   \n",
      "\n",
      "   fold-enrichment       p-value  \n",
      "0             9.41  1.284448e-11  \n",
      "[1, 0.5, 0.5, 21.74, 0.65, 0.15, 33.33, 3.5022642002241844e-07]\n",
      "3    virlimit  padlimit  recall (%)  coverage (%)  expected_bpas  \\\n",
      "0       0.5       0.5       18.29          1.98           1.63   \n",
      "\n",
      "   fold-enrichment       p-value  \n",
      "0              9.2  7.636207e-11  \n",
      "[3, 0.5, 0.5, 23.08, 0.81, 0.21, 28.57, 5.4161529196231214e-08]\n"
     ]
    }
   ],
   "source": [
    "# perform cross validation\n",
    "outvalues = []\n",
    "for split in nerve_2_tuning['class'].unique():\n",
    "    test_set = nerve_2_tuning[nerve_2_tuning['class'] != split]\n",
    "    val_set = nerve_2_tuning[nerve_2_tuning['class'] == split]\n",
    "    test_proteomes = list(test_set['Proteome ID'].unique())\n",
    "    val_proteomes = list(val_set['Proteome ID'].unique())\n",
    "    test_antigens = list(test_set['protein'].unique())\n",
    "    val_antigens = list(val_set['protein'].unique())\n",
    "    \n",
    "    # run parameter grid search and collect accuracy, coverage, p-value\n",
    "    CONDITIONS = [i/100 for i in range(50, 100, 5)]\n",
    "\n",
    "    # read in precomputaded nerve predictions on known antigens\n",
    "    nerve_2_tuning_results = pd.read_csv('./tuning/nerve_2_tuning/vaccine_candidates.csv')\n",
    "    nerve_2_tuning_results.id = [element[0] for element in nerve_2_tuning_results.id.str.split('_')]\n",
    "    nerve_2_tuning_results = nerve_2_tuning_results[nerve_2_tuning_results.id.isin(test_antigens)]\n",
    "\n",
    "    outlist = []\n",
    "    for condition in CONDITIONS:\n",
    "        number_of_selected_proteins = 0\n",
    "        number_of_total_proteins = 0\n",
    "        padlimit = condition\n",
    "        virlimit = 0.5\n",
    "\n",
    "        # evaluate for known antigens\n",
    "        list_of_known_antigens = protein_loader(nerve_2_tuning_results)\n",
    "        list_of_known_antigens_seqs = [protein.sequence for protein in list_of_known_antigens]\n",
    "        selected_antigens = select(list_of_proteins = list_of_known_antigens,\n",
    "                            transmemb_doms_limit = 3,\n",
    "                            padlimit = padlimit, mouse = \"False\",\n",
    "                            mouse_peptides_sum_limit = .15, razor='False',\n",
    "                            virlimit = virlimit, virulent = \"False\")\n",
    "        # evaluate for proteomes\n",
    "        for proteome in test_proteomes:\n",
    "            path = os.path.join('./tuning/', proteome, 'vaccine_candidates.csv')\n",
    "            list_of_proteins = protein_loader(path)\n",
    "            for protein in list_of_proteins:\n",
    "                if protein.sequence in list_of_known_antigens_seqs:\n",
    "                    list_of_proteins.remove(protein)\n",
    "            selected_proteins = select(list_of_proteins = list_of_proteins,\n",
    "                                transmemb_doms_limit = 3,\n",
    "                                padlimit = padlimit, mouse = \"False\",\n",
    "                                mouse_peptides_sum_limit = .15, razor='False',\n",
    "                                virlimit = virlimit, virulent = \"False\")\n",
    "            # populate values\n",
    "            number_of_selected_proteins += len(selected_proteins)\n",
    "            number_of_total_proteins += len(list_of_proteins)\n",
    "        \n",
    "        number_of_selected_proteins = number_of_selected_proteins + len(selected_antigens)\n",
    "        number_of_total_proteins = number_of_total_proteins + len(list_of_known_antigens)\n",
    "        \n",
    "        expected_bpas = round((len(list_of_known_antigens) * number_of_selected_proteins /\\\n",
    "                               number_of_total_proteins), 2)\n",
    "        recall = round((len(selected_antigens) / len(list_of_known_antigens))*100, 2)\n",
    "        coverage = round((number_of_selected_proteins / number_of_total_proteins)*100, 2)\n",
    "        fold_enrichment = round(len(selected_antigens)/expected_bpas, 2)\n",
    "        p_value = hg.sf(len(selected_antigens)-1, \n",
    "                              number_of_total_proteins, len(list_of_known_antigens), number_of_selected_proteins)\n",
    "        outlist.append([virlimit, padlimit, recall, coverage, expected_bpas, fold_enrichment,p_value])\n",
    "        \n",
    "    # get padlimit and virlimit values with lower fold-enrichment\n",
    "    df = pd.DataFrame(outlist, columns = ['virlimit', 'padlimit', 'recall (%)',\n",
    "                                'coverage (%)', 'expected_bpas', 'fold-enrichment', 'p-value'])\n",
    "    best_values_df = df[df['fold-enrichment'] == min(df['fold-enrichment'])]\n",
    "    virlimit = best_values_df[\n",
    "        best_values_df['coverage (%)'] == min(best_values_df['coverage (%)'])]['virlimit'].unique()[0]\n",
    "    padlimit = best_values_df[\n",
    "        best_values_df['coverage (%)'] == min(best_values_df['coverage (%)'])]['padlimit'].unique()[0]\n",
    "    print(split, df[df['fold-enrichment'] == min(df['fold-enrichment'])])\n",
    "    # apply lower values to validation set\n",
    "    \n",
    "    # read in precomputaded nerve predictions on known antigens\n",
    "    nerve_2_tuning_results = pd.read_csv('./tuning/nerve_2_tuning/vaccine_candidates.csv')\n",
    "    nerve_2_tuning_results.id = [element[0] for element in nerve_2_tuning_results.id.str.split('_')]\n",
    "    nerve_2_tuning_results = nerve_2_tuning_results[nerve_2_tuning_results.id.isin(val_antigens)]\n",
    "\n",
    "\n",
    "    # evaluate for known antigens\n",
    "    list_of_known_antigens = protein_loader(nerve_2_tuning_results)\n",
    "    list_of_known_antigens_seqs = [protein.sequence for protein in list_of_known_antigens]\n",
    "    selected_antigens = select(list_of_proteins = list_of_known_antigens,\n",
    "                        transmemb_doms_limit = 3,\n",
    "                        padlimit = padlimit, mouse = \"False\",\n",
    "                        mouse_peptides_sum_limit = .15, razor='False',\n",
    "                        virlimit = virlimit, virulent = \"False\")\n",
    "    # evaluate for proteomes\n",
    "    for proteome in val_proteomes:\n",
    "        path = os.path.join('./tuning/', proteome, 'vaccine_candidates.csv')\n",
    "        list_of_proteins = protein_loader(path)\n",
    "        for protein in list_of_proteins:\n",
    "                if protein.sequence in list_of_known_antigens_seqs:\n",
    "                    list_of_proteins.remove(protein)\n",
    "        selected_proteins = select(list_of_proteins = list_of_proteins,\n",
    "                            transmemb_doms_limit = 3,\n",
    "                            padlimit = padlimit, mouse = \"False\",\n",
    "                            mouse_peptides_sum_limit = .15, razor='False',\n",
    "                            virlimit = virlimit, virulent = \"False\")\n",
    "        # populate values\n",
    "        number_of_selected_proteins += len(selected_proteins)\n",
    "        number_of_total_proteins += len(list_of_proteins)\n",
    "    \n",
    "    number_of_selected_proteins = number_of_selected_proteins + len(selected_antigens)\n",
    "    number_of_total_proteins = number_of_total_proteins + len(list_of_known_antigens)\n",
    "                              \n",
    "    expected_bpas = round((len(list_of_known_antigens) * number_of_selected_proteins /\\\n",
    "                               number_of_total_proteins), 2)\n",
    "    recall = round((len(selected_antigens) / len(list_of_known_antigens))*100, 2)\n",
    "    coverage = round((number_of_selected_proteins / number_of_total_proteins)*100, 2)\n",
    "    fold_enrichment = round(len(selected_antigens)/expected_bpas, 2)\n",
    "    p_value = hg.sf(len(selected_antigens)-1, \n",
    "                          number_of_total_proteins, len(list_of_known_antigens), number_of_selected_proteins)\n",
    "    outvalues.append([split, virlimit, padlimit, recall, coverage, expected_bpas, fold_enrichment,p_value])\n",
    "    print([split, virlimit, padlimit, recall, coverage, expected_bpas, fold_enrichment,p_value])"
   ]
  },
  {
   "cell_type": "code",
   "execution_count": 11,
   "id": "46eac2fc",
   "metadata": {
    "vscode": {
     "languageId": "python"
    }
   },
   "outputs": [
    {
     "data": {
      "text/html": [
       "<div>\n",
       "<style scoped>\n",
       "    .dataframe tbody tr th:only-of-type {\n",
       "        vertical-align: middle;\n",
       "    }\n",
       "\n",
       "    .dataframe tbody tr th {\n",
       "        vertical-align: top;\n",
       "    }\n",
       "\n",
       "    .dataframe thead th {\n",
       "        text-align: right;\n",
       "    }\n",
       "</style>\n",
       "<table border=\"1\" class=\"dataframe\">\n",
       "  <thead>\n",
       "    <tr style=\"text-align: right;\">\n",
       "      <th></th>\n",
       "      <th>split</th>\n",
       "      <th>virlimit</th>\n",
       "      <th>padlimit</th>\n",
       "      <th>recall</th>\n",
       "      <th>coverage</th>\n",
       "      <th>expected_bpas</th>\n",
       "      <th>fold_enrichment</th>\n",
       "      <th>p_value</th>\n",
       "    </tr>\n",
       "  </thead>\n",
       "  <tbody>\n",
       "    <tr>\n",
       "      <th>0</th>\n",
       "      <td>2</td>\n",
       "      <td>0.5</td>\n",
       "      <td>0.5</td>\n",
       "      <td>6.25</td>\n",
       "      <td>0.58</td>\n",
       "      <td>0.18</td>\n",
       "      <td>11.11</td>\n",
       "      <td>1.474958e-02</td>\n",
       "    </tr>\n",
       "    <tr>\n",
       "      <th>1</th>\n",
       "      <td>0</td>\n",
       "      <td>0.5</td>\n",
       "      <td>0.5</td>\n",
       "      <td>29.63</td>\n",
       "      <td>0.71</td>\n",
       "      <td>0.19</td>\n",
       "      <td>42.11</td>\n",
       "      <td>1.229882e-11</td>\n",
       "    </tr>\n",
       "    <tr>\n",
       "      <th>2</th>\n",
       "      <td>1</td>\n",
       "      <td>0.5</td>\n",
       "      <td>0.5</td>\n",
       "      <td>21.74</td>\n",
       "      <td>0.65</td>\n",
       "      <td>0.15</td>\n",
       "      <td>33.33</td>\n",
       "      <td>3.502264e-07</td>\n",
       "    </tr>\n",
       "    <tr>\n",
       "      <th>3</th>\n",
       "      <td>3</td>\n",
       "      <td>0.5</td>\n",
       "      <td>0.5</td>\n",
       "      <td>23.08</td>\n",
       "      <td>0.81</td>\n",
       "      <td>0.21</td>\n",
       "      <td>28.57</td>\n",
       "      <td>5.416153e-08</td>\n",
       "    </tr>\n",
       "  </tbody>\n",
       "</table>\n",
       "</div>"
      ],
      "text/plain": [
       "   split  virlimit  padlimit  recall  coverage  expected_bpas  \\\n",
       "0      2       0.5       0.5    6.25      0.58           0.18   \n",
       "1      0       0.5       0.5   29.63      0.71           0.19   \n",
       "2      1       0.5       0.5   21.74      0.65           0.15   \n",
       "3      3       0.5       0.5   23.08      0.81           0.21   \n",
       "\n",
       "   fold_enrichment       p_value  \n",
       "0            11.11  1.474958e-02  \n",
       "1            42.11  1.229882e-11  \n",
       "2            33.33  3.502264e-07  \n",
       "3            28.57  5.416153e-08  "
      ]
     },
     "execution_count": 11,
     "metadata": {},
     "output_type": "execute_result"
    }
   ],
   "source": [
    "cv_results = pd.DataFrame(outvalues, columns = ['split', 'virlimit', 'padlimit', 'recall',\n",
    "                                                'coverage', 'expected_bpas', 'fold_enrichment', 'p_value']) \n",
    "cv_results"
   ]
  },
  {
   "cell_type": "markdown",
   "id": "2be30e69",
   "metadata": {},
   "source": [
    "### Run NERVE with the optimal parameters on the test set"
   ]
  },
  {
   "cell_type": "code",
   "execution_count": 10,
   "id": "0fd73411",
   "metadata": {
    "vscode": {
     "languageId": "python"
    }
   },
   "outputs": [],
   "source": [
    "# NERVE2\n",
    "\n",
    "df = pd.read_excel('../../database/antigens/test_antigens_summary_v2.xlsx', sheet_name = 'nerve_2_tests')\n",
    "df = df[df['Nerve_2_test'] == 1]\n",
    "df_neg = df[df['gram'] == '-']\n",
    "df_pos = df[df['gram'] == '+']\n",
    "to_fasta(df_neg, './test/gram_neg_2/gram_neg_2.fasta')\n",
    "to_fasta(df_pos, './test/gram_pos_2/gram_pos_2.fasta')"
   ]
  },
  {
   "cell_type": "code",
   "execution_count": null,
   "id": "ea04d237",
   "metadata": {
    "vscode": {
     "languageId": "python"
    }
   },
   "outputs": [],
   "source": [
    "# Run nerve on gram positive and negative datasets\n",
    "\n",
    "for test_set, gram in zip(['gram_neg_2', 'gram_pos_2'], \n",
    "                         ['n', 'p']):\n",
    "    \n",
    "    nerve_run = RunNerve()\n",
    "    nerve_run.args['proteome1'] = f'./test/{test_set}/{test_set}.fasta'\n",
    "    nerve_run.args['gram'] = gram\n",
    "    nerve_run.args.pop('proteome2')\n",
    "    nerve_run.args['select'] = False\n",
    "    nerve_run.args['working_dir'] = f'./test/{test_set}/'\n",
    "    out, err = nerve_run.run()"
   ]
  },
  {
   "cell_type": "code",
   "execution_count": 12,
   "id": "ee4bcc0e",
   "metadata": {
    "vscode": {
     "languageId": "python"
    }
   },
   "outputs": [],
   "source": [
    "\n",
    "# read in precomputaded nerve predictions on known antigens\n",
    "nerve_2_test_results = pd.read_csv('./test/nerve_2_test/vaccine_candidates.csv')\n",
    "\n",
    "nerve_2_test = pd.read_excel('../../database/antigens/test_antigens_summary_v2.xlsx',\n",
    "                               sheet_name = 'nerve_2_tests')\n",
    "nerve_2_test = nerve_2_test[nerve_2_test['Nerve_2_test'] == 1]\n",
    "test_proteomes  = list(nerve_2_test['Proteome ID'].unique())\n",
    "\n",
    "outlist = []\n",
    "number_of_selected_proteins = 0\n",
    "number_of_total_proteins = 0\n",
    "virlimit = .50\n",
    "padlimit = .50\n",
    "\n",
    "# evaluate for known antigens\n",
    "list_of_known_antigens = protein_loader(nerve_2_test_results)\n",
    "selected_antigens = select(list_of_proteins = list_of_known_antigens,\n",
    "                    transmemb_doms_limit = 3,\n",
    "                    padlimit = padlimit, mouse = \"False\",\n",
    "                    mouse_peptides_sum_limit = .15, razor='False',\n",
    "                    virlimit = virlimit, virulent = \"True\")\n",
    "# evaluate for proteomes\n",
    "for proteome in test_proteomes:\n",
    "    path = os.path.join('./tuning/', proteome, 'vaccine_candidates.csv')\n",
    "    list_of_proteins = protein_loader(path)\n",
    "    selected_proteins = select(list_of_proteins = list_of_proteins,\n",
    "                        transmemb_doms_limit = 3,\n",
    "                        padlimit = padlimit, mouse = \"False\",\n",
    "                        mouse_peptides_sum_limit = .15, razor='False',\n",
    "                        virlimit = virlimit, virulent = \"False\")\n",
    "    # populate values\n",
    "    number_of_selected_proteins += len(selected_proteins)\n",
    "    number_of_total_proteins += len(list_of_proteins)\n",
    "expected_bpas = round((len(list_of_known_antigens) * len(selected_proteins)) / len(list_of_proteins),2)\n",
    "recall = round((len(selected_antigens) / len(list_of_known_antigens))*100, 2)\n",
    "coverage = round((number_of_selected_proteins / number_of_total_proteins)*100, 2)\n",
    "outlist.append([virlimit, padlimit, recall,\n",
    "                coverage,  \n",
    "               expected_bpas, recall / coverage, \n",
    "                hg.sf(len(selected_antigens)-1, \n",
    "                      number_of_total_proteins, len(list_of_known_antigens), number_of_selected_proteins)])\n"
   ]
  },
  {
   "cell_type": "code",
   "execution_count": 13,
   "id": "82515acb",
   "metadata": {
    "scrolled": true,
    "vscode": {
     "languageId": "python"
    }
   },
   "outputs": [
    {
     "data": {
      "text/html": [
       "<div>\n",
       "<style scoped>\n",
       "    .dataframe tbody tr th:only-of-type {\n",
       "        vertical-align: middle;\n",
       "    }\n",
       "\n",
       "    .dataframe tbody tr th {\n",
       "        vertical-align: top;\n",
       "    }\n",
       "\n",
       "    .dataframe thead th {\n",
       "        text-align: right;\n",
       "    }\n",
       "</style>\n",
       "<table border=\"1\" class=\"dataframe\">\n",
       "  <thead>\n",
       "    <tr style=\"text-align: right;\">\n",
       "      <th></th>\n",
       "      <th>virlimit</th>\n",
       "      <th>padlimit</th>\n",
       "      <th>recall</th>\n",
       "      <th>coverage</th>\n",
       "      <th>expected_bpas</th>\n",
       "      <th>fold_enrichment</th>\n",
       "      <th>p_value</th>\n",
       "    </tr>\n",
       "  </thead>\n",
       "  <tbody>\n",
       "    <tr>\n",
       "      <th>0</th>\n",
       "      <td>0.5</td>\n",
       "      <td>0.5</td>\n",
       "      <td>25.0</td>\n",
       "      <td>1.51</td>\n",
       "      <td>0.89</td>\n",
       "      <td>16.556291</td>\n",
       "      <td>4.188543e-11</td>\n",
       "    </tr>\n",
       "  </tbody>\n",
       "</table>\n",
       "</div>"
      ],
      "text/plain": [
       "   virlimit  padlimit  recall  coverage  expected_bpas  fold_enrichment  \\\n",
       "0       0.5       0.5    25.0      1.51           0.89        16.556291   \n",
       "\n",
       "        p_value  \n",
       "0  4.188543e-11  "
      ]
     },
     "execution_count": 13,
     "metadata": {},
     "output_type": "execute_result"
    }
   ],
   "source": [
    "df = pd.DataFrame(outlist, columns = ['virlimit', 'padlimit', 'recall',\n",
    "                                        'coverage', 'expected_bpas', 'fold_enrichment', 'p_value']) \n",
    "df"
   ]
  },
  {
   "cell_type": "markdown",
   "id": "6a656004",
   "metadata": {},
   "source": [
    "### Run on NERVE 1 test set"
   ]
  },
  {
   "cell_type": "code",
   "execution_count": 28,
   "id": "bd303f11",
   "metadata": {},
   "outputs": [],
   "source": [
    "# NERVE1\n",
    "\n",
    "df = pd.read_excel('../../database/antigens/test_antigens_summary_v2.xlsx', sheet_name = 'nerve_1_tests')\n",
    "df = df[df['nerve_1_test'] == 1]\n",
    "df_neg = df[df['gram'] == '-']\n",
    "df_pos = df[df['gram'] == '+']\n",
    "os.makedirs('./test/gram_neg_1/')\n",
    "os.makedirs('./test/gram_pos_1/')\n",
    "to_fasta(df_neg, './test/gram_neg_1/gram_neg_1.fasta')\n",
    "to_fasta(df_pos, './test/gram_pos_1/gram_pos_1.fasta')"
   ]
  },
  {
   "cell_type": "code",
   "execution_count": 29,
   "id": "42fbe7ac",
   "metadata": {},
   "outputs": [],
   "source": [
    "# Run nerve on gram positive and negative datasets\n",
    "\n",
    "for test_set, gram in zip(['gram_neg_1', 'gram_pos_1'], \n",
    "                         ['n', 'p']):\n",
    "    \n",
    "    nerve_run = RunNerve()\n",
    "    nerve_run.args['proteome1'] = f'./test/{test_set}/{test_set}.fasta'\n",
    "    nerve_run.args['gram'] = gram\n",
    "    nerve_run.args.pop('proteome2')\n",
    "    nerve_run.args['select'] = False\n",
    "    nerve_run.args['working_dir'] = f'./test/{test_set}/'\n",
    "    out, err = nerve_run.run()"
   ]
  },
  {
   "cell_type": "code",
   "execution_count": 30,
   "id": "450bf6e5",
   "metadata": {},
   "outputs": [],
   "source": [
    "\n",
    "# read in precomputaded nerve predictions on known antigens\n",
    "nerve_1_test_results = pd.read_csv('./test/nerve_1_test/vaccine_candidates.csv')\n",
    "\n",
    "nerve_1_test = pd.read_excel('../../database/antigens/test_antigens_summary_v2.xlsx', sheet_name = 'nerve_1_tests')\n",
    "nerve_1_test = nerve_1_test[nerve_1_test['nerve_1_test'] == 1]\n",
    "test_proteomes  = list(nerve_1_test['Proteome ID'].unique())\n",
    "\n",
    "outlist = []\n",
    "number_of_selected_proteins = 0\n",
    "number_of_total_proteins = 0\n",
    "virlimit = .50\n",
    "padlimit = .50\n",
    "\n",
    "# evaluate for known antigens\n",
    "list_of_known_antigens = protein_loader(nerve_1_test_results)\n",
    "selected_antigens = select(list_of_proteins = list_of_known_antigens,\n",
    "                    transmemb_doms_limit = 3,\n",
    "                    padlimit = padlimit, mouse = \"False\",\n",
    "                    mouse_peptides_sum_limit = .15, razor='False',\n",
    "                    virlimit = virlimit, virulent = \"True\")\n",
    "# evaluate for proteomes\n",
    "for proteome in test_proteomes:\n",
    "    path = os.path.join('./tuning/', proteome, 'vaccine_candidates.csv')\n",
    "    list_of_proteins = protein_loader(path)\n",
    "    selected_proteins = select(list_of_proteins = list_of_proteins,\n",
    "                        transmemb_doms_limit = 3,\n",
    "                        padlimit = padlimit, mouse = \"False\",\n",
    "                        mouse_peptides_sum_limit = .15, razor='False',\n",
    "                        virlimit = virlimit, virulent = \"False\")\n",
    "    # populate values\n",
    "    number_of_selected_proteins += len(selected_proteins)\n",
    "    number_of_total_proteins += len(list_of_proteins)\n",
    "expected_bpas = round((len(list_of_known_antigens) * len(selected_proteins)) / len(list_of_proteins),2)\n",
    "recall = round((len(selected_antigens) / len(list_of_known_antigens))*100, 2)\n",
    "coverage = round((number_of_selected_proteins / number_of_total_proteins)*100, 2)\n",
    "outlist.append([virlimit, padlimit, recall,\n",
    "                coverage,  \n",
    "               expected_bpas, recall / coverage, \n",
    "                hg.sf(len(selected_antigens)-1, \n",
    "                      number_of_total_proteins, len(list_of_known_antigens), number_of_selected_proteins)])\n"
   ]
  },
  {
   "cell_type": "code",
   "execution_count": 31,
   "id": "1ffd72e6",
   "metadata": {},
   "outputs": [
    {
     "data": {
      "text/html": [
       "<div>\n",
       "<style scoped>\n",
       "    .dataframe tbody tr th:only-of-type {\n",
       "        vertical-align: middle;\n",
       "    }\n",
       "\n",
       "    .dataframe tbody tr th {\n",
       "        vertical-align: top;\n",
       "    }\n",
       "\n",
       "    .dataframe thead th {\n",
       "        text-align: right;\n",
       "    }\n",
       "</style>\n",
       "<table border=\"1\" class=\"dataframe\">\n",
       "  <thead>\n",
       "    <tr style=\"text-align: right;\">\n",
       "      <th></th>\n",
       "      <th>virlimit</th>\n",
       "      <th>padlimit</th>\n",
       "      <th>recall</th>\n",
       "      <th>coverage</th>\n",
       "      <th>expected_bpas</th>\n",
       "      <th>fold_enrichment</th>\n",
       "      <th>p_value</th>\n",
       "    </tr>\n",
       "  </thead>\n",
       "  <tbody>\n",
       "    <tr>\n",
       "      <th>0</th>\n",
       "      <td>0.5</td>\n",
       "      <td>0.5</td>\n",
       "      <td>68.97</td>\n",
       "      <td>1.79</td>\n",
       "      <td>0.47</td>\n",
       "      <td>38.530726</td>\n",
       "      <td>3.561898e-29</td>\n",
       "    </tr>\n",
       "  </tbody>\n",
       "</table>\n",
       "</div>"
      ],
      "text/plain": [
       "   virlimit  padlimit  recall  coverage  expected_bpas  fold_enrichment  \\\n",
       "0       0.5       0.5   68.97      1.79           0.47        38.530726   \n",
       "\n",
       "        p_value  \n",
       "0  3.561898e-29  "
      ]
     },
     "execution_count": 31,
     "metadata": {},
     "output_type": "execute_result"
    }
   ],
   "source": [
    "df = pd.DataFrame(outlist, columns = ['virlimit', 'padlimit', 'recall',\n",
    "                                        'coverage', 'expected_bpas', 'fold_enrichment', 'p_value']) \n",
    "df"
   ]
  },
  {
   "cell_type": "code",
   "execution_count": null,
   "id": "c931509d",
   "metadata": {},
   "outputs": [],
   "source": [
    "len()"
   ]
  },
  {
   "cell_type": "markdown",
   "id": "f5c08b25",
   "metadata": {},
   "source": [
    "### Run statistics"
   ]
  },
  {
   "cell_type": "code",
   "execution_count": 17,
   "id": "2a35fd1d",
   "metadata": {},
   "outputs": [
    {
     "data": {
      "text/plain": [
       "21"
      ]
     },
     "execution_count": 17,
     "metadata": {},
     "output_type": "execute_result"
    }
   ],
   "source": [
    "nerve2_tests_proteomes = df['Proteome ID'].unique()\n",
    "len(nerve2_tests_proteomes)"
   ]
  },
  {
   "cell_type": "code",
   "execution_count": 16,
   "id": "361cf0c8",
   "metadata": {
    "vscode": {
     "languageId": "python"
    }
   },
   "outputs": [
    {
     "data": {
      "text/html": [
       "<div>\n",
       "<style scoped>\n",
       "    .dataframe tbody tr th:only-of-type {\n",
       "        vertical-align: middle;\n",
       "    }\n",
       "\n",
       "    .dataframe tbody tr th {\n",
       "        vertical-align: top;\n",
       "    }\n",
       "\n",
       "    .dataframe thead th {\n",
       "        text-align: right;\n",
       "    }\n",
       "</style>\n",
       "<table border=\"1\" class=\"dataframe\">\n",
       "  <thead>\n",
       "    <tr style=\"text-align: right;\">\n",
       "      <th></th>\n",
       "      <th>index</th>\n",
       "      <th>id</th>\n",
       "      <th>uniprot_accession_code</th>\n",
       "      <th>score</th>\n",
       "      <th>length</th>\n",
       "      <th>transmembrane_doms</th>\n",
       "      <th>localization</th>\n",
       "      <th>localization score</th>\n",
       "      <th>virulence_probability</th>\n",
       "      <th>adhesin_probability</th>\n",
       "      <th>...</th>\n",
       "      <th>shared_mouse_peps</th>\n",
       "      <th>shared_conserv_proteome_peps</th>\n",
       "      <th>human_peptides_sum</th>\n",
       "      <th>mouse_peptides_sum</th>\n",
       "      <th>annotations</th>\n",
       "      <th>list_of_peptides_from_comparison_with_mhcpep_sapiens</th>\n",
       "      <th>list_of_peptides_from_comparison_with_mhcpep_mouse</th>\n",
       "      <th>sequence</th>\n",
       "      <th>original_sequence_if_razor</th>\n",
       "      <th>tmhmm_seq</th>\n",
       "    </tr>\n",
       "  </thead>\n",
       "  <tbody>\n",
       "    <tr>\n",
       "      <th>0</th>\n",
       "      <td>0</td>\n",
       "      <td>sp|Q2YLR6|OMP19_BRUA2 Outer membrane lipoprote...</td>\n",
       "      <td>Q2YLR6</td>\n",
       "      <td>0.9876</td>\n",
       "      <td>177</td>\n",
       "      <td>0</td>\n",
       "      <td>OuterMembrane</td>\n",
       "      <td>10.00</td>\n",
       "      <td>0.9475</td>\n",
       "      <td>0.9657</td>\n",
       "      <td>...</td>\n",
       "      <td>0</td>\n",
       "      <td>0</td>\n",
       "      <td>0.0000</td>\n",
       "      <td>0.0000</td>\n",
       "      <td>NaN</td>\n",
       "      <td>NaN</td>\n",
       "      <td>NaN</td>\n",
       "      <td>MGISKASLLSLAAAGIVLAGCQSSRLGNLDNVSPPPPPAPVNAVPA...</td>\n",
       "      <td>NaN</td>\n",
       "      <td>NaN</td>\n",
       "    </tr>\n",
       "    <tr>\n",
       "      <th>1</th>\n",
       "      <td>1</td>\n",
       "      <td>tr|Q2YR58|Q2YR58_BRUA2 Glycoprotein X OS=Bruce...</td>\n",
       "      <td>Q2YR58</td>\n",
       "      <td>0.9864</td>\n",
       "      <td>518</td>\n",
       "      <td>0</td>\n",
       "      <td>Extracellular</td>\n",
       "      <td>9.64</td>\n",
       "      <td>0.9518</td>\n",
       "      <td>0.9888</td>\n",
       "      <td>...</td>\n",
       "      <td>0</td>\n",
       "      <td>0</td>\n",
       "      <td>0.0000</td>\n",
       "      <td>0.0000</td>\n",
       "      <td>NaN</td>\n",
       "      <td>NaN</td>\n",
       "      <td>NaN</td>\n",
       "      <td>MAVSAVINNIPNIMVSNISSPAGSQVITATLTYDGNGNDAQKPGTD...</td>\n",
       "      <td>NaN</td>\n",
       "      <td>NaN</td>\n",
       "    </tr>\n",
       "    <tr>\n",
       "      <th>2</th>\n",
       "      <td>2</td>\n",
       "      <td>tr|Q2YPR0|Q2YPR0_BRUA2 Outer membrane protein ...</td>\n",
       "      <td>Q2YPR0</td>\n",
       "      <td>0.9724</td>\n",
       "      <td>1333</td>\n",
       "      <td>0</td>\n",
       "      <td>OuterMembrane</td>\n",
       "      <td>9.95</td>\n",
       "      <td>0.8389</td>\n",
       "      <td>0.9728</td>\n",
       "      <td>...</td>\n",
       "      <td>0</td>\n",
       "      <td>0</td>\n",
       "      <td>0.0000</td>\n",
       "      <td>0.0000</td>\n",
       "      <td>NaN</td>\n",
       "      <td>NaN</td>\n",
       "      <td>NaN</td>\n",
       "      <td>MPGLFSSTFLSGNFRNKIRDYISCFCLFMFGLSVNHAYAGPGIFIN...</td>\n",
       "      <td>NaN</td>\n",
       "      <td>NaN</td>\n",
       "    </tr>\n",
       "    <tr>\n",
       "      <th>3</th>\n",
       "      <td>3</td>\n",
       "      <td>tr|Q2YRB2|Q2YRB2_BRUA2 AsmA OS=Brucella abortu...</td>\n",
       "      <td>Q2YRB2</td>\n",
       "      <td>0.9555</td>\n",
       "      <td>645</td>\n",
       "      <td>1</td>\n",
       "      <td>CytoplasmicMembrane</td>\n",
       "      <td>9.86</td>\n",
       "      <td>0.8174</td>\n",
       "      <td>0.8853</td>\n",
       "      <td>...</td>\n",
       "      <td>0</td>\n",
       "      <td>0</td>\n",
       "      <td>0.0000</td>\n",
       "      <td>0.0000</td>\n",
       "      <td>NaN</td>\n",
       "      <td>NaN</td>\n",
       "      <td>NaN</td>\n",
       "      <td>MRWPIFTRLIIAFVILCAAAAATLLAVVPFIVSTDAIRIRVAQEIS...</td>\n",
       "      <td>NaN</td>\n",
       "      <td>iiiiiiiiMMMMMMMMMMMMMMMMMMMMMMMOOOOOOOOOOOOOOO...</td>\n",
       "    </tr>\n",
       "    <tr>\n",
       "      <th>4</th>\n",
       "      <td>4</td>\n",
       "      <td>tr|Q2YIT2|Q2YIT2_BRUA2 Outer membrane beta-bar...</td>\n",
       "      <td>Q2YIT2</td>\n",
       "      <td>0.9442</td>\n",
       "      <td>512</td>\n",
       "      <td>0</td>\n",
       "      <td>OuterMembrane</td>\n",
       "      <td>9.52</td>\n",
       "      <td>0.8277</td>\n",
       "      <td>0.8299</td>\n",
       "      <td>...</td>\n",
       "      <td>0</td>\n",
       "      <td>0</td>\n",
       "      <td>0.0000</td>\n",
       "      <td>0.0000</td>\n",
       "      <td>NaN</td>\n",
       "      <td>NaN</td>\n",
       "      <td>NaN</td>\n",
       "      <td>MFIACAPIGGLAPLARRLRCLLLAGVALALPHFAYAQDADLRGSIS...</td>\n",
       "      <td>NaN</td>\n",
       "      <td>NaN</td>\n",
       "    </tr>\n",
       "    <tr>\n",
       "      <th>...</th>\n",
       "      <td>...</td>\n",
       "      <td>...</td>\n",
       "      <td>...</td>\n",
       "      <td>...</td>\n",
       "      <td>...</td>\n",
       "      <td>...</td>\n",
       "      <td>...</td>\n",
       "      <td>...</td>\n",
       "      <td>...</td>\n",
       "      <td>...</td>\n",
       "      <td>...</td>\n",
       "      <td>...</td>\n",
       "      <td>...</td>\n",
       "      <td>...</td>\n",
       "      <td>...</td>\n",
       "      <td>...</td>\n",
       "      <td>...</td>\n",
       "      <td>...</td>\n",
       "      <td>...</td>\n",
       "      <td>...</td>\n",
       "      <td>...</td>\n",
       "    </tr>\n",
       "    <tr>\n",
       "      <th>52701</th>\n",
       "      <td>3767</td>\n",
       "      <td>tr|A0A0H3AKK0|A0A0H3AKK0_VIBC3 ATP-dependent R...</td>\n",
       "      <td>A0A0H3AKK0</td>\n",
       "      <td>-16.8321</td>\n",
       "      <td>423</td>\n",
       "      <td>0</td>\n",
       "      <td>Cytoplasmic</td>\n",
       "      <td>9.97</td>\n",
       "      <td>0.1938</td>\n",
       "      <td>0.0105</td>\n",
       "      <td>...</td>\n",
       "      <td>1463</td>\n",
       "      <td>0</td>\n",
       "      <td>8.9243</td>\n",
       "      <td>9.5296</td>\n",
       "      <td>ATPase activity | hydrolase activity, acting o...</td>\n",
       "      <td>NaN</td>\n",
       "      <td>NaN</td>\n",
       "      <td>MIKTFADLELDPILLEAIEEMGFSRPTQVQAEAIPQALDGRDVLAS...</td>\n",
       "      <td>NaN</td>\n",
       "      <td>NaN</td>\n",
       "    </tr>\n",
       "    <tr>\n",
       "      <th>52702</th>\n",
       "      <td>3768</td>\n",
       "      <td>sp|A5F362|DNAJ_VIBC3 Chaperone protein DnaJ OS...</td>\n",
       "      <td>A5F362</td>\n",
       "      <td>-17.5310</td>\n",
       "      <td>381</td>\n",
       "      <td>0</td>\n",
       "      <td>Cytoplasmic</td>\n",
       "      <td>9.97</td>\n",
       "      <td>0.1125</td>\n",
       "      <td>0.0135</td>\n",
       "      <td>...</td>\n",
       "      <td>385</td>\n",
       "      <td>0</td>\n",
       "      <td>3.0577</td>\n",
       "      <td>3.0682</td>\n",
       "      <td>adenyl nucleotide binding | adenyl ribonucleot...</td>\n",
       "      <td>KRLAMKYHPDR, KAYKRLAMKYHPDR</td>\n",
       "      <td>NaN</td>\n",
       "      <td>MSKRDFYEVLGVGRDASERDIKKAYKRLAMKYHPDRNSGDAGAAEK...</td>\n",
       "      <td>NaN</td>\n",
       "      <td>NaN</td>\n",
       "    </tr>\n",
       "    <tr>\n",
       "      <th>52703</th>\n",
       "      <td>3769</td>\n",
       "      <td>tr|A0A0H3AJH9|A0A0H3AJH9_VIBC3 ATP-dependent R...</td>\n",
       "      <td>A0A0H3AJH9</td>\n",
       "      <td>-17.8599</td>\n",
       "      <td>397</td>\n",
       "      <td>0</td>\n",
       "      <td>Cytoplasmic</td>\n",
       "      <td>9.97</td>\n",
       "      <td>0.3392</td>\n",
       "      <td>0.0054</td>\n",
       "      <td>...</td>\n",
       "      <td>1474</td>\n",
       "      <td>0</td>\n",
       "      <td>9.5340</td>\n",
       "      <td>10.0202</td>\n",
       "      <td>ATPase activity | hydrolase activity, acting o...</td>\n",
       "      <td>NaN</td>\n",
       "      <td>NaN</td>\n",
       "      <td>MSFSQLGLSDVLVQTVAQLGYQKPTHIQTQAIPVILQGRDLIAAAQ...</td>\n",
       "      <td>NaN</td>\n",
       "      <td>NaN</td>\n",
       "    </tr>\n",
       "    <tr>\n",
       "      <th>52704</th>\n",
       "      <td>3770</td>\n",
       "      <td>tr|A0A0H3AH27|A0A0H3AH27_VIBC3 ATP-dependent z...</td>\n",
       "      <td>A0A0H3AH27</td>\n",
       "      <td>-20.2202</td>\n",
       "      <td>651</td>\n",
       "      <td>2</td>\n",
       "      <td>CytoplasmicMembrane</td>\n",
       "      <td>10.00</td>\n",
       "      <td>0.0964</td>\n",
       "      <td>0.0066</td>\n",
       "      <td>...</td>\n",
       "      <td>1189</td>\n",
       "      <td>0</td>\n",
       "      <td>4.1659</td>\n",
       "      <td>4.4808</td>\n",
       "      <td>purine ribonucleoside triphosphate binding | p...</td>\n",
       "      <td>GPPGTGKTLLA</td>\n",
       "      <td>NaN</td>\n",
       "      <td>MSDMAKNLILWLVIAVVLMSVFQSFGPGENNGRAVDYTTFVKEVGQ...</td>\n",
       "      <td>NaN</td>\n",
       "      <td>iiiiiiMMMMMMMMMMMMMMMMMMMMoooooooooooooooooooo...</td>\n",
       "    </tr>\n",
       "    <tr>\n",
       "      <th>52705</th>\n",
       "      <td>3771</td>\n",
       "      <td>sp|A5F361|DNAK_VIBC3 Chaperone protein DnaK OS...</td>\n",
       "      <td>A5F361</td>\n",
       "      <td>-61.5821</td>\n",
       "      <td>635</td>\n",
       "      <td>0</td>\n",
       "      <td>Cytoplasmic</td>\n",
       "      <td>9.97</td>\n",
       "      <td>0.2415</td>\n",
       "      <td>0.0414</td>\n",
       "      <td>...</td>\n",
       "      <td>1207</td>\n",
       "      <td>0</td>\n",
       "      <td>4.6740</td>\n",
       "      <td>3.9291</td>\n",
       "      <td>adenyl nucleotide binding | purine nucleotide ...</td>\n",
       "      <td>PAYFNDAQRQAT, VKDVLLLDVTP, GEVKDVLLL, YFNDAQRQ...</td>\n",
       "      <td>LPYITADATGPKHMNIKVTRAKLE, NEPTAAALAY</td>\n",
       "      <td>MGKIIGIDLGTTNSCVAVLDGDKPRVIENAEGERTTPSVIAYTDGE...</td>\n",
       "      <td>NaN</td>\n",
       "      <td>NaN</td>\n",
       "    </tr>\n",
       "  </tbody>\n",
       "</table>\n",
       "<p>52706 rows × 22 columns</p>\n",
       "</div>"
      ],
      "text/plain": [
       "       index                                                 id  \\\n",
       "0          0  sp|Q2YLR6|OMP19_BRUA2 Outer membrane lipoprote...   \n",
       "1          1  tr|Q2YR58|Q2YR58_BRUA2 Glycoprotein X OS=Bruce...   \n",
       "2          2  tr|Q2YPR0|Q2YPR0_BRUA2 Outer membrane protein ...   \n",
       "3          3  tr|Q2YRB2|Q2YRB2_BRUA2 AsmA OS=Brucella abortu...   \n",
       "4          4  tr|Q2YIT2|Q2YIT2_BRUA2 Outer membrane beta-bar...   \n",
       "...      ...                                                ...   \n",
       "52701   3767  tr|A0A0H3AKK0|A0A0H3AKK0_VIBC3 ATP-dependent R...   \n",
       "52702   3768  sp|A5F362|DNAJ_VIBC3 Chaperone protein DnaJ OS...   \n",
       "52703   3769  tr|A0A0H3AJH9|A0A0H3AJH9_VIBC3 ATP-dependent R...   \n",
       "52704   3770  tr|A0A0H3AH27|A0A0H3AH27_VIBC3 ATP-dependent z...   \n",
       "52705   3771  sp|A5F361|DNAK_VIBC3 Chaperone protein DnaK OS...   \n",
       "\n",
       "      uniprot_accession_code    score  length  transmembrane_doms  \\\n",
       "0                     Q2YLR6   0.9876     177                   0   \n",
       "1                     Q2YR58   0.9864     518                   0   \n",
       "2                     Q2YPR0   0.9724    1333                   0   \n",
       "3                     Q2YRB2   0.9555     645                   1   \n",
       "4                     Q2YIT2   0.9442     512                   0   \n",
       "...                      ...      ...     ...                 ...   \n",
       "52701             A0A0H3AKK0 -16.8321     423                   0   \n",
       "52702                 A5F362 -17.5310     381                   0   \n",
       "52703             A0A0H3AJH9 -17.8599     397                   0   \n",
       "52704             A0A0H3AH27 -20.2202     651                   2   \n",
       "52705                 A5F361 -61.5821     635                   0   \n",
       "\n",
       "              localization  localization score  virulence_probability  \\\n",
       "0            OuterMembrane               10.00                 0.9475   \n",
       "1            Extracellular                9.64                 0.9518   \n",
       "2            OuterMembrane                9.95                 0.8389   \n",
       "3      CytoplasmicMembrane                9.86                 0.8174   \n",
       "4            OuterMembrane                9.52                 0.8277   \n",
       "...                    ...                 ...                    ...   \n",
       "52701          Cytoplasmic                9.97                 0.1938   \n",
       "52702          Cytoplasmic                9.97                 0.1125   \n",
       "52703          Cytoplasmic                9.97                 0.3392   \n",
       "52704  CytoplasmicMembrane               10.00                 0.0964   \n",
       "52705          Cytoplasmic                9.97                 0.2415   \n",
       "\n",
       "       adhesin_probability  ...  shared_mouse_peps  \\\n",
       "0                   0.9657  ...                  0   \n",
       "1                   0.9888  ...                  0   \n",
       "2                   0.9728  ...                  0   \n",
       "3                   0.8853  ...                  0   \n",
       "4                   0.8299  ...                  0   \n",
       "...                    ...  ...                ...   \n",
       "52701               0.0105  ...               1463   \n",
       "52702               0.0135  ...                385   \n",
       "52703               0.0054  ...               1474   \n",
       "52704               0.0066  ...               1189   \n",
       "52705               0.0414  ...               1207   \n",
       "\n",
       "       shared_conserv_proteome_peps  human_peptides_sum  mouse_peptides_sum  \\\n",
       "0                                 0              0.0000              0.0000   \n",
       "1                                 0              0.0000              0.0000   \n",
       "2                                 0              0.0000              0.0000   \n",
       "3                                 0              0.0000              0.0000   \n",
       "4                                 0              0.0000              0.0000   \n",
       "...                             ...                 ...                 ...   \n",
       "52701                             0              8.9243              9.5296   \n",
       "52702                             0              3.0577              3.0682   \n",
       "52703                             0              9.5340             10.0202   \n",
       "52704                             0              4.1659              4.4808   \n",
       "52705                             0              4.6740              3.9291   \n",
       "\n",
       "                                             annotations  \\\n",
       "0                                                    NaN   \n",
       "1                                                    NaN   \n",
       "2                                                    NaN   \n",
       "3                                                    NaN   \n",
       "4                                                    NaN   \n",
       "...                                                  ...   \n",
       "52701  ATPase activity | hydrolase activity, acting o...   \n",
       "52702  adenyl nucleotide binding | adenyl ribonucleot...   \n",
       "52703  ATPase activity | hydrolase activity, acting o...   \n",
       "52704  purine ribonucleoside triphosphate binding | p...   \n",
       "52705  adenyl nucleotide binding | purine nucleotide ...   \n",
       "\n",
       "       list_of_peptides_from_comparison_with_mhcpep_sapiens  \\\n",
       "0                                                    NaN      \n",
       "1                                                    NaN      \n",
       "2                                                    NaN      \n",
       "3                                                    NaN      \n",
       "4                                                    NaN      \n",
       "...                                                  ...      \n",
       "52701                                                NaN      \n",
       "52702                        KRLAMKYHPDR, KAYKRLAMKYHPDR      \n",
       "52703                                                NaN      \n",
       "52704                                        GPPGTGKTLLA      \n",
       "52705  PAYFNDAQRQAT, VKDVLLLDVTP, GEVKDVLLL, YFNDAQRQ...      \n",
       "\n",
       "      list_of_peptides_from_comparison_with_mhcpep_mouse  \\\n",
       "0                                                    NaN   \n",
       "1                                                    NaN   \n",
       "2                                                    NaN   \n",
       "3                                                    NaN   \n",
       "4                                                    NaN   \n",
       "...                                                  ...   \n",
       "52701                                                NaN   \n",
       "52702                                                NaN   \n",
       "52703                                                NaN   \n",
       "52704                                                NaN   \n",
       "52705               LPYITADATGPKHMNIKVTRAKLE, NEPTAAALAY   \n",
       "\n",
       "                                                sequence  \\\n",
       "0      MGISKASLLSLAAAGIVLAGCQSSRLGNLDNVSPPPPPAPVNAVPA...   \n",
       "1      MAVSAVINNIPNIMVSNISSPAGSQVITATLTYDGNGNDAQKPGTD...   \n",
       "2      MPGLFSSTFLSGNFRNKIRDYISCFCLFMFGLSVNHAYAGPGIFIN...   \n",
       "3      MRWPIFTRLIIAFVILCAAAAATLLAVVPFIVSTDAIRIRVAQEIS...   \n",
       "4      MFIACAPIGGLAPLARRLRCLLLAGVALALPHFAYAQDADLRGSIS...   \n",
       "...                                                  ...   \n",
       "52701  MIKTFADLELDPILLEAIEEMGFSRPTQVQAEAIPQALDGRDVLAS...   \n",
       "52702  MSKRDFYEVLGVGRDASERDIKKAYKRLAMKYHPDRNSGDAGAAEK...   \n",
       "52703  MSFSQLGLSDVLVQTVAQLGYQKPTHIQTQAIPVILQGRDLIAAAQ...   \n",
       "52704  MSDMAKNLILWLVIAVVLMSVFQSFGPGENNGRAVDYTTFVKEVGQ...   \n",
       "52705  MGKIIGIDLGTTNSCVAVLDGDKPRVIENAEGERTTPSVIAYTDGE...   \n",
       "\n",
       "      original_sequence_if_razor  \\\n",
       "0                            NaN   \n",
       "1                            NaN   \n",
       "2                            NaN   \n",
       "3                            NaN   \n",
       "4                            NaN   \n",
       "...                          ...   \n",
       "52701                        NaN   \n",
       "52702                        NaN   \n",
       "52703                        NaN   \n",
       "52704                        NaN   \n",
       "52705                        NaN   \n",
       "\n",
       "                                               tmhmm_seq  \n",
       "0                                                    NaN  \n",
       "1                                                    NaN  \n",
       "2                                                    NaN  \n",
       "3      iiiiiiiiMMMMMMMMMMMMMMMMMMMMMMMOOOOOOOOOOOOOOO...  \n",
       "4                                                    NaN  \n",
       "...                                                  ...  \n",
       "52701                                                NaN  \n",
       "52702                                                NaN  \n",
       "52703                                                NaN  \n",
       "52704  iiiiiiMMMMMMMMMMMMMMMMMMMMoooooooooooooooooooo...  \n",
       "52705                                                NaN  \n",
       "\n",
       "[52706 rows x 22 columns]"
      ]
     },
     "execution_count": 16,
     "metadata": {},
     "output_type": "execute_result"
    }
   ],
   "source": [
    "proteomes = os.path.join('./tuning/')\n",
    "df_all = pd.DataFrame()\n",
    "for proteome in nerve2_tests_proteomes:\n",
    "    try:\n",
    "        tmp_df = pd.read_csv(os.path.join(proteomes, proteome, 'vaccine_candidates.csv'))\n",
    "        df_all = pd.concat([df_all, tmp_df])\n",
    "    except:\n",
    "        ''\n",
    "df_all = df_all.reset_index()\n",
    "df_all"
   ]
  },
  {
   "cell_type": "code",
   "execution_count": null,
   "id": "c2062533",
   "metadata": {
    "vscode": {
     "languageId": "python"
    }
   },
   "outputs": [],
   "source": [
    "df.hist('adhesin_probability')"
   ]
  },
  {
   "cell_type": "code",
   "execution_count": null,
   "id": "1211754c",
   "metadata": {
    "vscode": {
     "languageId": "python"
    }
   },
   "outputs": [],
   "source": [
    "df.hist('virulence_probability')"
   ]
  },
  {
   "cell_type": "code",
   "execution_count": null,
   "id": "bcb5f75c",
   "metadata": {
    "vscode": {
     "languageId": "python"
    }
   },
   "outputs": [],
   "source": []
  },
  {
   "cell_type": "code",
   "execution_count": null,
   "id": "120b807f",
   "metadata": {
    "vscode": {
     "languageId": "python"
    }
   },
   "outputs": [],
   "source": []
  },
  {
   "cell_type": "code",
   "execution_count": null,
   "id": "938106fe",
   "metadata": {
    "vscode": {
     "languageId": "python"
    }
   },
   "outputs": [],
   "source": []
  },
  {
   "cell_type": "code",
   "execution_count": null,
   "id": "36e7e7e1",
   "metadata": {
    "vscode": {
     "languageId": "python"
    }
   },
   "outputs": [],
   "source": []
  },
  {
   "cell_type": "code",
   "execution_count": null,
   "id": "21ba2d89",
   "metadata": {
    "vscode": {
     "languageId": "python"
    }
   },
   "outputs": [],
   "source": []
  },
  {
   "cell_type": "code",
   "execution_count": null,
   "id": "4eebc3f7",
   "metadata": {
    "vscode": {
     "languageId": "python"
    }
   },
   "outputs": [],
   "source": []
  },
  {
   "cell_type": "code",
   "execution_count": null,
   "id": "d88fef9e",
   "metadata": {
    "vscode": {
     "languageId": "python"
    }
   },
   "outputs": [],
   "source": []
  }
 ],
 "metadata": {
  "kernelspec": {
   "display_name": "Python 3 (ipykernel)",
   "language": "python",
   "name": "python3"
  },
  "language_info": {
   "codemirror_mode": {
    "name": "ipython",
    "version": 3
   },
   "file_extension": ".py",
   "mimetype": "text/x-python",
   "name": "python",
   "nbconvert_exporter": "python",
   "pygments_lexer": "ipython3",
   "version": "3.8.13"
  }
 },
 "nbformat": 4,
 "nbformat_minor": 5
}
