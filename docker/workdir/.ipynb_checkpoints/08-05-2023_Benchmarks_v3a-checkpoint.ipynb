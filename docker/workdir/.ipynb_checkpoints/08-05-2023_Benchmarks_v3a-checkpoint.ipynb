{
 "cells": [
  {
   "cell_type": "markdown",
   "id": "f7bb7369",
   "metadata": {},
   "source": [
    "### Tune and test NERVE"
   ]
  },
  {
   "cell_type": "code",
   "execution_count": null,
   "id": "4090b16f",
   "metadata": {},
   "outputs": [],
   "source": [
    "### Implement new version of select module"
   ]
  },
  {
   "cell_type": "code",
   "execution_count": null,
   "id": "08e9274a",
   "metadata": {
    "vscode": {
     "languageId": "python"
    }
   },
   "outputs": [],
   "source": [
    "import subprocess, os\n",
    "import pandas as pd\n",
    "from code import Protein\n",
    "import numpy as np\n",
    "from scipy.stats import hypergeom as hg\n",
    "import matplotlib.pyplot as plt\n",
    "import random"
   ]
  },
  {
   "cell_type": "code",
   "execution_count": null,
   "id": "f447647c",
   "metadata": {
    "vscode": {
     "languageId": "python"
    }
   },
   "outputs": [],
   "source": [
    "class RunNerve():\n",
    "    \"\"\"Class to store nerve parameters and run NERVE program\"\"\"\n",
    "    def __init__(self):\n",
    "        \"\"\"Initiate arguments and program path\"\"\"\n",
    "        self.args = {'annotation': True, 'e_value': 1e-10, 'gram': None, 'minlength': 9, 'mismatch': 1,\n",
    "                     'mouse': True, 'mouse_peptides_sum_limit': .15, 'proteome1': None, 'proteome2': None, \n",
    "                     'p_ad_extracellular_filter': .38, 'p_ad_no_citoplasm_filter': .46, 'padlimit': .5, \n",
    "                     'razor': True, 'razlen': 50, 'select': True, 'substitution': 3, \n",
    "                     'transmemb_doms_limit': 3, 'virlimit': .5, 'virulent': True, 'working_dir': None, \n",
    "                     'NERVE_dir': '../../', 'iFeature_dir': '/iFeature', 'DeepFri_dir': '/DeepFri'\n",
    "                     }\n",
    "        self.program = \"../../code/NERVE.py\"\n",
    "\n",
    "    def print_args(self):\n",
    "        print(f'Arguments are:\\n{self.args}')\n",
    "        print(f'NERVE executable path is:\\n{self.program}')\n",
    "    \n",
    "    def run(self):\n",
    "        \"\"\"Pass commands to line\n",
    "        program: command/program to run\n",
    "        args: arguments\"\"\"\n",
    "        \n",
    "        program = self.program\n",
    "        args = self.args\n",
    "        for key in args:\n",
    "            args[key] = str(args[key])\n",
    "        \n",
    "        args_list = []\n",
    "        for item in args.items():\n",
    "            args_list.append(f'--{item[0]}')\n",
    "            args_list.append(item[1])\n",
    "        cmd = ['python3'] + [program] + args_list\n",
    "        process = subprocess.Popen(cmd, stdout=subprocess.PIPE)\n",
    "        output, error = process.communicate()\n",
    "        return output, error"
   ]
  },
  {
   "cell_type": "code",
   "execution_count": null,
   "id": "7469d5b6",
   "metadata": {
    "vscode": {
     "languageId": "python"
    }
   },
   "outputs": [],
   "source": [
    "class Localization:\n",
    "        \"\"\"class to store and handle protein subcellular localizations\"\"\"\n",
    "        def __init__(self, localization, reliability):\n",
    "            self.localization = str(localization)\n",
    "            self.reliability = float(reliability)\n",
    "\n",
    "def protein_loader(proteome):\n",
    "    \n",
    "    if type(proteome) != pd.DataFrame:\n",
    "        df = pd.read_csv(proteome)\n",
    "    else:\n",
    "        df = proteome\n",
    "    df = df.astype(object).where(pd.notnull(df),None)\n",
    "    list_of_proteins = []\n",
    "    for index, row in df.iterrows():\n",
    "        protein = Protein.Protein(row['id'], row['sequence'])\n",
    "        protein.accession = row['uniprot_accession_code']\n",
    "        protein.length = row['length']\n",
    "        protein.transmembrane_doms = 0 if row['transmembrane_doms'] == None else row['transmembrane_doms']\n",
    "        protein.localization = [Localization(row['localization'], row['localization score'])]\n",
    "        protein.p_vir = row['virulence_probability']\n",
    "        protein.p_ad = row['adhesin_probability']\n",
    "        protein.conservation_score = row['conservation_score']\n",
    "        protein.shared_human_peps = 0 if row['shared_human_peps'] == None else row['shared_human_peps']\n",
    "        protein.shared_mouse_peps = 0 if row['shared_mouse_peps'] == None else row['shared_mouse_peps']\n",
    "        protein.shared_conserv_proteome_peps = 0 if row['shared_conserv_proteome_peps'] == None else row['shared_conserv_proteome_peps']\n",
    "        protein.sapiens_peptides_sum = 0 if row['human_peptides_sum'] == None else row['human_peptides_sum']\n",
    "        protein.mouse_peptides_sum = 0 if row['mouse_peptides_sum'] == None else row['mouse_peptides_sum']\n",
    "        protein.annotations = row['annotations']\n",
    "        protein.list_of_peptides_from_comparison_with_mhcpep_sapiens = [] if \\\n",
    "        row['list_of_peptides_from_comparison_with_mhcpep_sapiens'] == None else \\\n",
    "        [peptide for peptide in range(len(row['list_of_peptides_from_comparison_with_mhcpep_sapiens']))]\n",
    "        protein.list_of_peptides_from_comparison_with_mhcpep_mouse = [] if \\\n",
    "        row['list_of_peptides_from_comparison_with_mhcpep_mouse'] == None else \\\n",
    "        [peptide for peptide in range(len(row['list_of_peptides_from_comparison_with_mhcpep_mouse']))]\n",
    "        protein.original_sequence_if_razor = row['original_sequence_if_razor']\n",
    "        protein.tmhmm_seq = row['tmhmm_seq']\n",
    "        list_of_proteins.append(protein)\n",
    "    return list_of_proteins\n",
    "\n",
    "def select(list_of_proteins, transmemb_doms_limit,\n",
    "           padlimit, mouse, mouse_peptides_sum_limit, virlimit, virulent)->list:\n",
    "    \"\"\"Selects suitable candidate proteins for vaccine production\"\"\"\n",
    "        \n",
    "    final_list = []\n",
    "    for protein in list_of_proteins:\n",
    "        if protein.localization[0].localization == \"Cytoplasmic\" or protein.localization[0].reliability < 7.49: continue\n",
    "\n",
    "        final_list.append(protein)\n",
    "    return final_list   \n",
    "\n"
   ]
  },
  {
   "cell_type": "markdown",
   "id": "763847bb",
   "metadata": {},
   "source": [
    "### Prepare files for tuning"
   ]
  },
  {
   "cell_type": "code",
   "execution_count": null,
   "id": "410cd856",
   "metadata": {
    "vscode": {
     "languageId": "python"
    }
   },
   "outputs": [],
   "source": [
    "# prepare files for tuning\n",
    "def to_fasta(df, outfile):\n",
    "    \"\"\"Converts pandas cells to fasta\"\"\"\n",
    "    outfile = open(outfile, 'w')\n",
    "    for index, row in df.iterrows():\n",
    "        outfile.write('>' + row['protein']+ '_' + row['organism name'] + '\\n'\\\n",
    "                      + row['sequence'].replace(\" \", \"\") + '\\n')\n",
    "    outfile.close()"
   ]
  },
  {
   "cell_type": "code",
   "execution_count": null,
   "id": "a6ed6775",
   "metadata": {
    "vscode": {
     "languageId": "python"
    }
   },
   "outputs": [],
   "source": [
    "# NERVE2\n",
    "\n",
    "df = pd.read_excel('../../database/antigens/test_antigens_summary_v2.xlsx', sheet_name = 'nerve_2_tests')\n",
    "df = df[df['Nerve_2_test'] != 1]\n",
    "df_neg = df[df['gram'] == '-']\n",
    "df_pos = df[df['gram'] == '+']\n",
    "to_fasta(df_neg, './tuning/gram_neg_2/gram_neg_2.fasta')\n",
    "to_fasta(df_pos, './tuning/gram_pos_2/gram_pos_2.fasta')"
   ]
  },
  {
   "cell_type": "code",
   "execution_count": null,
   "id": "f315465a",
   "metadata": {
    "vscode": {
     "languageId": "python"
    }
   },
   "outputs": [],
   "source": [
    "# NERVE 1\n",
    "\n",
    "df = pd.read_excel('../../database/antigens/test_antigens_summary_v2.xlsx', sheet_name = 'nerve_1_tests')\n",
    "df_neg = df[df['gram'] == '-']\n",
    "df_pos = df[df['gram'] == '+']\n",
    "to_fasta(df_neg, './tuning/gram_neg_1/gram_neg_1.fasta')\n",
    "to_fasta(df_pos, './tuning/gram_pos_1/gram_pos_1.fasta')"
   ]
  },
  {
   "cell_type": "code",
   "execution_count": null,
   "id": "43858bf6",
   "metadata": {
    "vscode": {
     "languageId": "python"
    }
   },
   "outputs": [],
   "source": [
    "# Run nerve on gram positive and negative datasets\n",
    "\n",
    "for test_set, gram in zip(['gram_neg_1', 'gram_pos_1', 'gram_neg_2', 'gram_pos_2'], \n",
    "                         ['n', 'p', 'n', 'p']):\n",
    "    \n",
    "    nerve_run = RunNerve()\n",
    "    nerve_run.args['proteome1'] = f'./tuning/{test_set}/{test_set}.fasta'\n",
    "    nerve_run.args['gram'] = gram\n",
    "    nerve_run.args.pop('proteome2')\n",
    "    nerve_run.args['select'] = False\n",
    "    nerve_run.args['working_dir'] = f'./tuning/{test_set}/'\n",
    "    out, err = nerve_run.run()\n"
   ]
  },
  {
   "cell_type": "markdown",
   "id": "42f132ab",
   "metadata": {},
   "source": [
    "### Run tuning"
   ]
  },
  {
   "cell_type": "code",
   "execution_count": null,
   "id": "31a79349",
   "metadata": {
    "vscode": {
     "languageId": "python"
    }
   },
   "outputs": [],
   "source": [
    "len(pd.read_excel('../../database/antigens/test_antigens_summary_v2.xlsx', sheet_name = 'nerve_2_tests'))"
   ]
  },
  {
   "cell_type": "code",
   "execution_count": null,
   "id": "11b54fd2",
   "metadata": {
    "vscode": {
     "languageId": "python"
    }
   },
   "outputs": [],
   "source": [
    "nerve_2_tuning = pd.read_excel('../../database/antigens/test_antigens_summary_v2.xlsx', sheet_name = 'nerve_2_tests')\n",
    "nerve_2_tuning = nerve_2_tuning[(nerve_2_tuning['Nerve_2_test'] != 1)]\n",
    "tuning_proteomes  = list(nerve_2_tuning['Proteome ID'].unique())\n",
    "print(f'Proteomes: {len(tuning_proteomes)}, antigens: {len(nerve_2_tuning)}')"
   ]
  },
  {
   "cell_type": "code",
   "execution_count": 7,
   "id": "4bc68f7a",
   "metadata": {
    "vscode": {
     "languageId": "python"
    }
   },
   "outputs": [
    {
     "name": "stdout",
     "output_type": "stream",
     "text": [
      "[0.5, 0.5, 45.61, 28.58, 32.59, 1.6, 8.217911521065035e-05]\n",
      "[0.5, 0.55, 45.61, 28.58, 32.59, 1.6, 8.217911521065035e-05]\n",
      "[0.5, 0.6, 45.61, 28.58, 32.59, 1.6, 8.217911521065035e-05]\n",
      "[0.5, 0.65, 45.61, 28.58, 32.59, 1.6, 8.217911521065035e-05]\n",
      "[0.5, 0.7, 45.61, 28.58, 32.59, 1.6, 8.217911521065035e-05]\n",
      "[0.5, 0.75, 45.61, 28.58, 32.59, 1.6, 8.217911521065035e-05]\n",
      "[0.5, 0.8, 45.61, 28.58, 32.59, 1.6, 8.217911521065035e-05]\n",
      "[0.5, 0.85, 45.61, 28.58, 32.59, 1.6, 8.217911521065035e-05]\n",
      "[0.5, 0.9, 45.61, 28.58, 32.59, 1.6, 8.217911521065035e-05]\n",
      "[0.5, 0.95, 45.61, 28.58, 32.59, 1.6, 8.217911521065035e-05]\n",
      "[0.55, 0.5, 45.61, 28.58, 32.59, 1.6, 8.217911521065035e-05]\n",
      "[0.55, 0.55, 45.61, 28.58, 32.59, 1.6, 8.217911521065035e-05]\n",
      "[0.55, 0.6, 45.61, 28.58, 32.59, 1.6, 8.217911521065035e-05]\n",
      "[0.55, 0.65, 45.61, 28.58, 32.59, 1.6, 8.217911521065035e-05]\n",
      "[0.55, 0.7, 45.61, 28.58, 32.59, 1.6, 8.217911521065035e-05]\n",
      "[0.55, 0.75, 45.61, 28.58, 32.59, 1.6, 8.217911521065035e-05]\n",
      "[0.55, 0.8, 45.61, 28.58, 32.59, 1.6, 8.217911521065035e-05]\n",
      "[0.55, 0.85, 45.61, 28.58, 32.59, 1.6, 8.217911521065035e-05]\n",
      "[0.55, 0.9, 45.61, 28.58, 32.59, 1.6, 8.217911521065035e-05]\n",
      "[0.55, 0.95, 45.61, 28.58, 32.59, 1.6, 8.217911521065035e-05]\n",
      "[0.6, 0.5, 45.61, 28.58, 32.59, 1.6, 8.217911521065035e-05]\n",
      "[0.6, 0.55, 45.61, 28.58, 32.59, 1.6, 8.217911521065035e-05]\n"
     ]
    },
    {
     "ename": "KeyboardInterrupt",
     "evalue": "",
     "output_type": "error",
     "traceback": [
      "\u001b[0;31m---------------------------------------------------------------------------\u001b[0m",
      "\u001b[0;31mKeyboardInterrupt\u001b[0m                         Traceback (most recent call last)",
      "Cell \u001b[0;32mIn [7], line 24\u001b[0m\n\u001b[1;32m     22\u001b[0m \u001b[38;5;28;01mfor\u001b[39;00m proteome \u001b[38;5;129;01min\u001b[39;00m tuning_proteomes:\n\u001b[1;32m     23\u001b[0m     path \u001b[38;5;241m=\u001b[39m os\u001b[38;5;241m.\u001b[39mpath\u001b[38;5;241m.\u001b[39mjoin(\u001b[38;5;124m'\u001b[39m\u001b[38;5;124m./tuning/\u001b[39m\u001b[38;5;124m'\u001b[39m, proteome, \u001b[38;5;124m'\u001b[39m\u001b[38;5;124mvaccine_candidates.csv\u001b[39m\u001b[38;5;124m'\u001b[39m)\n\u001b[0;32m---> 24\u001b[0m     list_of_proteins \u001b[38;5;241m=\u001b[39m \u001b[43mprotein_loader\u001b[49m\u001b[43m(\u001b[49m\u001b[43mpath\u001b[49m\u001b[43m)\u001b[49m\n\u001b[1;32m     25\u001b[0m     \u001b[38;5;28;01mfor\u001b[39;00m protein \u001b[38;5;129;01min\u001b[39;00m list_of_proteins:\n\u001b[1;32m     26\u001b[0m         \u001b[38;5;28;01mif\u001b[39;00m protein\u001b[38;5;241m.\u001b[39msequence \u001b[38;5;129;01min\u001b[39;00m list_of_known_antigens_seqs:\n",
      "Cell \u001b[0;32mIn [3], line 24\u001b[0m, in \u001b[0;36mprotein_loader\u001b[0;34m(proteome)\u001b[0m\n\u001b[1;32m     22\u001b[0m protein\u001b[38;5;241m.\u001b[39mp_ad \u001b[38;5;241m=\u001b[39m row[\u001b[38;5;124m'\u001b[39m\u001b[38;5;124madhesin_probability\u001b[39m\u001b[38;5;124m'\u001b[39m]\n\u001b[1;32m     23\u001b[0m protein\u001b[38;5;241m.\u001b[39mconservation_score \u001b[38;5;241m=\u001b[39m row[\u001b[38;5;124m'\u001b[39m\u001b[38;5;124mconservation_score\u001b[39m\u001b[38;5;124m'\u001b[39m]\n\u001b[0;32m---> 24\u001b[0m protein\u001b[38;5;241m.\u001b[39mshared_human_peps \u001b[38;5;241m=\u001b[39m \u001b[38;5;241m0\u001b[39m \u001b[38;5;28;01mif\u001b[39;00m \u001b[43mrow\u001b[49m\u001b[43m[\u001b[49m\u001b[38;5;124;43m'\u001b[39;49m\u001b[38;5;124;43mshared_human_peps\u001b[39;49m\u001b[38;5;124;43m'\u001b[39;49m\u001b[43m]\u001b[49m \u001b[38;5;241m==\u001b[39m \u001b[38;5;28;01mNone\u001b[39;00m \u001b[38;5;28;01melse\u001b[39;00m row[\u001b[38;5;124m'\u001b[39m\u001b[38;5;124mshared_human_peps\u001b[39m\u001b[38;5;124m'\u001b[39m]\n\u001b[1;32m     25\u001b[0m protein\u001b[38;5;241m.\u001b[39mshared_mouse_peps \u001b[38;5;241m=\u001b[39m \u001b[38;5;241m0\u001b[39m \u001b[38;5;28;01mif\u001b[39;00m row[\u001b[38;5;124m'\u001b[39m\u001b[38;5;124mshared_mouse_peps\u001b[39m\u001b[38;5;124m'\u001b[39m] \u001b[38;5;241m==\u001b[39m \u001b[38;5;28;01mNone\u001b[39;00m \u001b[38;5;28;01melse\u001b[39;00m row[\u001b[38;5;124m'\u001b[39m\u001b[38;5;124mshared_mouse_peps\u001b[39m\u001b[38;5;124m'\u001b[39m]\n\u001b[1;32m     26\u001b[0m protein\u001b[38;5;241m.\u001b[39mshared_conserv_proteome_peps \u001b[38;5;241m=\u001b[39m \u001b[38;5;241m0\u001b[39m \u001b[38;5;28;01mif\u001b[39;00m row[\u001b[38;5;124m'\u001b[39m\u001b[38;5;124mshared_conserv_proteome_peps\u001b[39m\u001b[38;5;124m'\u001b[39m] \u001b[38;5;241m==\u001b[39m \u001b[38;5;28;01mNone\u001b[39;00m \u001b[38;5;28;01melse\u001b[39;00m row[\u001b[38;5;124m'\u001b[39m\u001b[38;5;124mshared_conserv_proteome_peps\u001b[39m\u001b[38;5;124m'\u001b[39m]\n",
      "File \u001b[0;32m/usr/local/lib/python3.8/site-packages/pandas/core/series.py:968\u001b[0m, in \u001b[0;36mSeries.__getitem__\u001b[0;34m(self, key)\u001b[0m\n\u001b[1;32m    967\u001b[0m \u001b[38;5;28;01mdef\u001b[39;00m \u001b[38;5;21m__getitem__\u001b[39m(\u001b[38;5;28mself\u001b[39m, key):\n\u001b[0;32m--> 968\u001b[0m     \u001b[43mcheck_deprecated_indexers\u001b[49m\u001b[43m(\u001b[49m\u001b[43mkey\u001b[49m\u001b[43m)\u001b[49m\n\u001b[1;32m    969\u001b[0m     key \u001b[38;5;241m=\u001b[39m com\u001b[38;5;241m.\u001b[39mapply_if_callable(key, \u001b[38;5;28mself\u001b[39m)\n\u001b[1;32m    971\u001b[0m     \u001b[38;5;28;01mif\u001b[39;00m key \u001b[38;5;129;01mis\u001b[39;00m \u001b[38;5;28mEllipsis\u001b[39m:\n",
      "File \u001b[0;32m/usr/local/lib/python3.8/site-packages/pandas/core/indexing.py:2656\u001b[0m, in \u001b[0;36mcheck_deprecated_indexers\u001b[0;34m(key)\u001b[0m\n\u001b[1;32m   2652\u001b[0m \u001b[38;5;28;01mdef\u001b[39;00m \u001b[38;5;21mcheck_deprecated_indexers\u001b[39m(key) \u001b[38;5;241m-\u001b[39m\u001b[38;5;241m>\u001b[39m \u001b[38;5;28;01mNone\u001b[39;00m:\n\u001b[1;32m   2653\u001b[0m \u001b[38;5;250m    \u001b[39m\u001b[38;5;124;03m\"\"\"Checks if the key is a deprecated indexer.\"\"\"\u001b[39;00m\n\u001b[1;32m   2654\u001b[0m     \u001b[38;5;28;01mif\u001b[39;00m (\n\u001b[1;32m   2655\u001b[0m         \u001b[38;5;28misinstance\u001b[39m(key, \u001b[38;5;28mset\u001b[39m)\n\u001b[0;32m-> 2656\u001b[0m         \u001b[38;5;129;01mor\u001b[39;00m \u001b[38;5;28;43misinstance\u001b[39;49m\u001b[43m(\u001b[49m\u001b[43mkey\u001b[49m\u001b[43m,\u001b[49m\u001b[43m \u001b[49m\u001b[38;5;28;43mtuple\u001b[39;49m\u001b[43m)\u001b[49m\n\u001b[1;32m   2657\u001b[0m         \u001b[38;5;129;01mand\u001b[39;00m \u001b[38;5;28many\u001b[39m(\u001b[38;5;28misinstance\u001b[39m(x, \u001b[38;5;28mset\u001b[39m) \u001b[38;5;28;01mfor\u001b[39;00m x \u001b[38;5;129;01min\u001b[39;00m key)\n\u001b[1;32m   2658\u001b[0m     ):\n\u001b[1;32m   2659\u001b[0m         warnings\u001b[38;5;241m.\u001b[39mwarn(\n\u001b[1;32m   2660\u001b[0m             \u001b[38;5;124m\"\u001b[39m\u001b[38;5;124mPassing a set as an indexer is deprecated and will raise in \u001b[39m\u001b[38;5;124m\"\u001b[39m\n\u001b[1;32m   2661\u001b[0m             \u001b[38;5;124m\"\u001b[39m\u001b[38;5;124ma future version. Use a list instead.\u001b[39m\u001b[38;5;124m\"\u001b[39m,\n\u001b[1;32m   2662\u001b[0m             \u001b[38;5;167;01mFutureWarning\u001b[39;00m,\n\u001b[1;32m   2663\u001b[0m             stacklevel\u001b[38;5;241m=\u001b[39mfind_stack_level(inspect\u001b[38;5;241m.\u001b[39mcurrentframe()),\n\u001b[1;32m   2664\u001b[0m         )\n\u001b[1;32m   2665\u001b[0m     \u001b[38;5;28;01mif\u001b[39;00m (\n\u001b[1;32m   2666\u001b[0m         \u001b[38;5;28misinstance\u001b[39m(key, \u001b[38;5;28mdict\u001b[39m)\n\u001b[1;32m   2667\u001b[0m         \u001b[38;5;129;01mor\u001b[39;00m \u001b[38;5;28misinstance\u001b[39m(key, \u001b[38;5;28mtuple\u001b[39m)\n\u001b[1;32m   2668\u001b[0m         \u001b[38;5;129;01mand\u001b[39;00m \u001b[38;5;28many\u001b[39m(\u001b[38;5;28misinstance\u001b[39m(x, \u001b[38;5;28mdict\u001b[39m) \u001b[38;5;28;01mfor\u001b[39;00m x \u001b[38;5;129;01min\u001b[39;00m key)\n\u001b[1;32m   2669\u001b[0m     ):\n",
      "\u001b[0;31mKeyboardInterrupt\u001b[0m: "
     ]
    }
   ],
   "source": [
    "# run parameter grid search and collect accuracy, coverage, p-value\n",
    "CONDITIONS = [[i/100, s/100] for i in range(50, 100, 5) for s in range(50, 100, 5)]\n",
    "\n",
    "# read in precomputaded nerve predictions on known antigens\n",
    "nerve_2_tuning_results = pd.read_csv('./tuning/nerve_2_tuning/vaccine_candidates.csv')\n",
    "\n",
    "outlist = []\n",
    "for condition in CONDITIONS:\n",
    "    number_of_selected_proteins = 0\n",
    "    number_of_total_proteins = 0\n",
    "    virlimit, padlimit = condition\n",
    "    \n",
    "    # evaluate for known antigens\n",
    "    list_of_known_antigens = protein_loader(nerve_2_tuning_results)\n",
    "    list_of_known_antigens_seqs = [protein.sequence for protein in list_of_known_antigens]\n",
    "    selected_antigens = select(list_of_proteins = list_of_known_antigens,\n",
    "                        transmemb_doms_limit = 3,\n",
    "                        padlimit = padlimit, mouse = \"True\",\n",
    "                        mouse_peptides_sum_limit = .15,\n",
    "                        virlimit = virlimit, virulent = \"True\")\n",
    "    # evaluate for proteomes\n",
    "    for proteome in tuning_proteomes:\n",
    "        path = os.path.join('./tuning/', proteome, 'vaccine_candidates.csv')\n",
    "        list_of_proteins = protein_loader(path)\n",
    "        for protein in list_of_proteins:\n",
    "            if protein.sequence in list_of_known_antigens_seqs:\n",
    "                list_of_proteins.remove(protein)\n",
    "        selected_proteins = select(list_of_proteins = list_of_proteins,\n",
    "                            transmemb_doms_limit = 3,\n",
    "                            padlimit = padlimit, mouse = \"True\",\n",
    "                            mouse_peptides_sum_limit = .15,\n",
    "                            virlimit = virlimit, virulent = \"True\")\n",
    "        # populate values\n",
    "        number_of_selected_proteins += len(selected_proteins)\n",
    "        number_of_total_proteins += len(list_of_proteins)\n",
    "        \n",
    "    number_of_selected_proteins = number_of_selected_proteins + len(selected_antigens)\n",
    "    number_of_total_proteins = number_of_total_proteins + len(list_of_known_antigens)\n",
    "    \n",
    "    expected_bpas = round((len(list_of_known_antigens) * number_of_selected_proteins) / number_of_total_proteins, 2)\n",
    "    values = [virlimit, padlimit, round((len(selected_antigens) / len(list_of_known_antigens))*100, 2),\n",
    "                    round((number_of_selected_proteins / number_of_total_proteins)*100, 2),  \n",
    "                   expected_bpas, round(len(selected_antigens)/expected_bpas, 2), \n",
    "                    hg.sf(len(selected_antigens)-1, \n",
    "                          number_of_total_proteins, len(list_of_known_antigens), number_of_selected_proteins)]\n",
    "    print(values)\n",
    "    outlist.append(values)"
   ]
  },
  {
   "cell_type": "code",
   "execution_count": null,
   "id": "9aac1004",
   "metadata": {
    "vscode": {
     "languageId": "python"
    }
   },
   "outputs": [],
   "source": [
    "df = pd.DataFrame(outlist, columns = ['virlimit', 'padlimit', 'recall (%)',\n",
    "                                'coverage (%)', 'expected_bpas', 'fold-enrichment', 'p-value'])\n",
    "df"
   ]
  },
  {
   "cell_type": "code",
   "execution_count": null,
   "id": "48d0b296",
   "metadata": {
    "vscode": {
     "languageId": "python"
    }
   },
   "outputs": [],
   "source": [
    "new_column = df.virlimit.unique()\n",
    "new_index = df.padlimit.unique()\n",
    "plot_outlist = []\n",
    "for index in new_index:\n",
    "    tmp_row = []\n",
    "    for column in new_column:\n",
    "        tmp_accuracy = df[(df.padlimit == index) & (df.virlimit == column)]['recall (%)'].to_list()[0]\n",
    "        tmp_row.append(tmp_accuracy)\n",
    "    plot_outlist.append(tmp_row)\n",
    "plot_df = pd.DataFrame(plot_outlist, index=new_index, columns=new_column)\n",
    "\n",
    "plt.imshow(plot_df, cmap =\"RdYlBu\", )\n",
    "plt.colorbar(label='Recall (%)')\n",
    "plt.xticks(range(len(plot_df)), plot_df.columns)\n",
    "plt.yticks(range(len(plot_df)), plot_df.index)\n",
    "plt.xlabel('virlimit')\n",
    "plt.ylabel('padlimit')\n",
    "plt.show()"
   ]
  },
  {
   "cell_type": "code",
   "execution_count": null,
   "id": "74ca6fc1",
   "metadata": {
    "vscode": {
     "languageId": "python"
    }
   },
   "outputs": [],
   "source": [
    "new_column = df.virlimit.unique()\n",
    "new_index = df.padlimit.unique()\n",
    "plot_outlist = []\n",
    "for index in new_index:\n",
    "    tmp_row = []\n",
    "    for column in new_column:\n",
    "        tmp_accuracy = df[(df.padlimit == index) & (df.virlimit == column)]['coverage (%)'].to_list()[0]\n",
    "        tmp_row.append(tmp_accuracy)\n",
    "    plot_outlist.append(tmp_row)\n",
    "plot_df = pd.DataFrame(plot_outlist, index=new_index, columns=new_column)\n",
    "\n",
    "plt.imshow(plot_df, cmap =\"RdYlBu\", )\n",
    "plt.colorbar(label='Coverage (%)')\n",
    "plt.xticks(range(len(plot_df)), plot_df.columns)\n",
    "plt.yticks(range(len(plot_df)), plot_df.index)\n",
    "plt.xlabel('virlimit')\n",
    "plt.ylabel('padlimit')\n",
    "plt.show()"
   ]
  },
  {
   "cell_type": "code",
   "execution_count": null,
   "id": "f48667e8",
   "metadata": {
    "vscode": {
     "languageId": "python"
    }
   },
   "outputs": [],
   "source": [
    "new_column = df.virlimit.unique()\n",
    "new_index = df.padlimit.unique()\n",
    "plot_outlist = []\n",
    "for index in new_index:\n",
    "    tmp_row = []\n",
    "    for column in new_column:\n",
    "        tmp_accuracy = df[(df.padlimit == index) & (df.virlimit == column)]['fold-enrichment'].to_list()[0]\n",
    "        tmp_row.append(tmp_accuracy)\n",
    "    plot_outlist.append(tmp_row)\n",
    "plot_df = pd.DataFrame(plot_outlist, index=new_index, columns=new_column)\n",
    "\n",
    "plt.imshow(plot_df, cmap =\"RdYlBu\", )\n",
    "plt.colorbar(label='fold-enrichment')# format='%.0e')\n",
    "plt.xticks(range(len(plot_df)), plot_df.columns)\n",
    "plt.yticks(range(len(plot_df)), plot_df.index)\n",
    "plt.xlabel('virlimit')\n",
    "plt.ylabel('padlimit')\n",
    "plt.show()"
   ]
  },
  {
   "cell_type": "code",
   "execution_count": null,
   "id": "7ec85791",
   "metadata": {
    "vscode": {
     "languageId": "python"
    }
   },
   "outputs": [],
   "source": [
    "#df.to_csv('./tuning/NERVE_2_tuning.csv', index=False)"
   ]
  },
  {
   "cell_type": "code",
   "execution_count": null,
   "id": "eeab24fe",
   "metadata": {
    "vscode": {
     "languageId": "python"
    }
   },
   "outputs": [],
   "source": [
    "# same on nerve 1 dataset\n",
    "\n",
    "nerve_1_tuning = pd.read_excel('../../database/antigens/test_antigens_summary_v2.xlsx', sheet_name = 'nerve_1_tests')\n",
    "nerve_1_tuning = nerve_1_tuning[nerve_1_tuning['nerve_1_test'] != 1]\n",
    "tuning_proteomes  = list(nerve_1_tuning['Proteome ID'].unique())\n",
    "print(f'Proteomes: {len(tuning_proteomes)}, antigens: {len(nerve_1_tuning)}')"
   ]
  },
  {
   "cell_type": "code",
   "execution_count": null,
   "id": "3929ad23",
   "metadata": {
    "vscode": {
     "languageId": "python"
    }
   },
   "outputs": [],
   "source": [
    "# run parameter grid search and collect accuracy, coverage, p-value\n",
    "CONDITIONS = [[i/100, s/100] for i in range(50, 100, 5) for s in range(50, 100, 5)]\n",
    "\n",
    "# read in precomputaded nerve predictions on known antigens\n",
    "nerve_2_tuning_results = pd.read_csv('./tuning/nerve_2_tuning/vaccine_candidates.csv')\n",
    "\n",
    "outlist = []\n",
    "for condition in CONDITIONS:\n",
    "    number_of_selected_proteins = 0\n",
    "    number_of_total_proteins = 0\n",
    "    virlimit, padlimit = condition\n",
    "    \n",
    "    # evaluate for known antigens\n",
    "    list_of_known_antigens = protein_loader(nerve_2_tuning_results)\n",
    "    list_of_known_antigens_seqs = [protein.sequence for protein in list_of_known_antigens]\n",
    "    selected_antigens = select(list_of_proteins = list_of_known_antigens,\n",
    "                        transmemb_doms_limit = 3,\n",
    "                        padlimit = padlimit, mouse = \"True\",\n",
    "                        mouse_peptides_sum_limit = .15,\n",
    "                        virlimit = virlimit, virulent = \"True\")\n",
    "    # evaluate for proteomes\n",
    "    for proteome in tuning_proteomes:\n",
    "        path = os.path.join('./tuning/', proteome, 'vaccine_candidates.csv')\n",
    "        list_of_proteins = protein_loader(path)\n",
    "        for protein in list_of_proteins:\n",
    "            if protein.sequence in list_of_known_antigens_seqs:\n",
    "                list_of_proteins.remove(protein)\n",
    "        selected_proteins = select(list_of_proteins = list_of_proteins,\n",
    "                            transmemb_doms_limit = 3,\n",
    "                            padlimit = padlimit, mouse = \"True\",\n",
    "                            mouse_peptides_sum_limit = .15,\n",
    "                            virlimit = virlimit, virulent = \"True\")\n",
    "        # populate values\n",
    "        number_of_selected_proteins += len(selected_proteins)\n",
    "        number_of_total_proteins += len(list_of_proteins)\n",
    "        \n",
    "    number_of_selected_proteins = number_of_selected_proteins + len(selected_antigens)\n",
    "    number_of_total_proteins = number_of_total_proteins + len(list_of_known_antigens)\n",
    "    \n",
    "    expected_bpas = round((len(list_of_known_antigens) * number_of_selected_proteins) / number_of_total_proteins, 2)\n",
    "    values = [virlimit, padlimit, round((len(selected_antigens) / len(list_of_known_antigens))*100, 2),\n",
    "                    round((number_of_selected_proteins / number_of_total_proteins)*100, 2),  \n",
    "                   expected_bpas, round(len(selected_antigens)/expected_bpas, 2), \n",
    "                    hg.sf(len(selected_antigens)-1, \n",
    "                          number_of_total_proteins, len(list_of_known_antigens), number_of_selected_proteins)]\n",
    "    #print(values)\n",
    "    outlist.append(values)"
   ]
  },
  {
   "cell_type": "code",
   "execution_count": null,
   "id": "e89a5d9d",
   "metadata": {
    "vscode": {
     "languageId": "python"
    }
   },
   "outputs": [],
   "source": [
    "df = pd.DataFrame(outlist, columns = ['virlimit', 'padlimit', 'recall (%)',\n",
    "                                'coverage (%)', 'expected_bpas', 'fold-enrichment', 'p-value'])\n",
    "df"
   ]
  },
  {
   "cell_type": "code",
   "execution_count": null,
   "id": "97feaf6a",
   "metadata": {
    "vscode": {
     "languageId": "python"
    }
   },
   "outputs": [],
   "source": [
    "new_column = df.virlimit.unique()\n",
    "new_index = df.padlimit.unique()\n",
    "plot_outlist = []\n",
    "for index in new_index:\n",
    "    tmp_row = []\n",
    "    for column in new_column:\n",
    "        tmp_accuracy = df[(df.padlimit == index) & (df.virlimit == column)]['recall (%)'].to_list()[0]\n",
    "        tmp_row.append(tmp_accuracy)\n",
    "    plot_outlist.append(tmp_row)\n",
    "plot_df = pd.DataFrame(plot_outlist, index=new_index, columns=new_column)\n",
    "\n",
    "plt.imshow(plot_df, cmap =\"RdYlBu\", )\n",
    "plt.colorbar(label='recall (%)')\n",
    "plt.xticks(range(len(plot_df)), plot_df.columns)\n",
    "plt.yticks(range(len(plot_df)), plot_df.index)\n",
    "plt.xlabel('virlimit')\n",
    "plt.ylabel('padlimit')\n",
    "plt.show()"
   ]
  },
  {
   "cell_type": "code",
   "execution_count": null,
   "id": "1da900cf",
   "metadata": {
    "vscode": {
     "languageId": "python"
    }
   },
   "outputs": [],
   "source": [
    "new_column = df.virlimit.unique()\n",
    "new_index = df.padlimit.unique()\n",
    "plot_outlist = []\n",
    "for index in new_index:\n",
    "    tmp_row = []\n",
    "    for column in new_column:\n",
    "        tmp_accuracy = df[(df.padlimit == index) & (df.virlimit == column)]['coverage (%)'].to_list()[0]\n",
    "        tmp_row.append(tmp_accuracy)\n",
    "    plot_outlist.append(tmp_row)\n",
    "plot_df = pd.DataFrame(plot_outlist, index=new_index, columns=new_column)\n",
    "\n",
    "plt.imshow(plot_df, cmap =\"RdYlBu\", )\n",
    "plt.colorbar(label='Coverage (%)')\n",
    "plt.xticks(range(len(plot_df)), plot_df.columns)\n",
    "plt.yticks(range(len(plot_df)), plot_df.index)\n",
    "plt.xlabel('virlimit')\n",
    "plt.ylabel('padlimit')\n",
    "plt.show()"
   ]
  },
  {
   "cell_type": "code",
   "execution_count": null,
   "id": "dfc7dce0",
   "metadata": {
    "vscode": {
     "languageId": "python"
    }
   },
   "outputs": [],
   "source": [
    "new_column = df.virlimit.unique()\n",
    "new_index = df.padlimit.unique()\n",
    "plot_outlist = []\n",
    "for index in new_index:\n",
    "    tmp_row = []\n",
    "    for column in new_column:\n",
    "        tmp_accuracy = df[(df.padlimit == index) & (df.virlimit == column)]['fold-enrichment'].to_list()[0]\n",
    "        tmp_row.append(tmp_accuracy)\n",
    "    plot_outlist.append(tmp_row)\n",
    "plot_df = pd.DataFrame(plot_outlist, index=new_index, columns=new_column)\n",
    "\n",
    "plt.imshow(plot_df, cmap =\"RdYlBu\", )\n",
    "plt.colorbar(label='fold-enrichment')# format='%.0e')\n",
    "plt.xticks(range(len(plot_df)), plot_df.columns)\n",
    "plt.yticks(range(len(plot_df)), plot_df.index)\n",
    "plt.xlabel('virlimit')\n",
    "plt.ylabel('padlimit')\n",
    "plt.show()"
   ]
  },
  {
   "cell_type": "code",
   "execution_count": null,
   "id": "cc71bf29",
   "metadata": {
    "vscode": {
     "languageId": "python"
    }
   },
   "outputs": [],
   "source": [
    "df.to_csv('./tuning/NERVE_1_tuning.csv', index=False)"
   ]
  },
  {
   "cell_type": "markdown",
   "id": "53b751b5",
   "metadata": {},
   "source": [
    "### Run k-fold cross-validation on NERVE_2 data"
   ]
  },
  {
   "cell_type": "code",
   "execution_count": null,
   "id": "bd12d218",
   "metadata": {
    "vscode": {
     "languageId": "python"
    }
   },
   "outputs": [],
   "source": [
    "nerve_2_tuning = pd.read_excel('../../database/antigens/test_antigens_summary_v2.xlsx',\n",
    "                               sheet_name = 'nerve_2_tests')\n",
    "nerve_2_tuning = nerve_2_tuning[(nerve_2_tuning['Nerve_2_test'] != 1)]"
   ]
  },
  {
   "cell_type": "code",
   "execution_count": null,
   "id": "25699938",
   "metadata": {
    "vscode": {
     "languageId": "python"
    }
   },
   "outputs": [],
   "source": [
    "# find split with lower difference bwtween groups\n",
    "sem = 100\n",
    "random_num = 0\n",
    "for i in range(2000):\n",
    "    proteomes = nerve_2_tuning['Proteome ID'].unique()\n",
    "    random.seed(i)\n",
    "    random.shuffle(proteomes)\n",
    "    outlist = []\n",
    "    for index, row in nerve_2_tuning.iterrows():\n",
    "        proteome = row['Proteome ID']\n",
    "        if proteome in proteomes[0:7]:\n",
    "            outlist.append(0)     \n",
    "        if proteome in proteomes[7:15]:\n",
    "            outlist.append(1)\n",
    "        if proteome in proteomes[15:22]:\n",
    "            outlist.append(2)\n",
    "        if proteome in proteomes[22:34]:\n",
    "            outlist.append(3)\n",
    "    nerve_2_tuning['class'] = outlist\n",
    "    tmp_sem = nerve_2_tuning[['class']].value_counts().sem()\n",
    "    if tmp_sem < sem:\n",
    "        sem = tmp_sem\n",
    "        random_num = i\n",
    "print(sem, random_num)"
   ]
  },
  {
   "cell_type": "code",
   "execution_count": null,
   "id": "21334bcb",
   "metadata": {
    "vscode": {
     "languageId": "python"
    }
   },
   "outputs": [],
   "source": [
    "# split the dataset into 5\n",
    "\n",
    "proteomes = nerve_2_tuning['Proteome ID'].unique()\n",
    "random.seed(476)\n",
    "random.shuffle(proteomes)\n",
    "outlist = []\n",
    "for index, row in nerve_2_tuning.iterrows():\n",
    "    proteome = row['Proteome ID']\n",
    "    if proteome in proteomes[0:7]:\n",
    "        outlist.append(0)     \n",
    "    if proteome in proteomes[7:15]:\n",
    "        outlist.append(1)\n",
    "    if proteome in proteomes[15:22]:\n",
    "        outlist.append(2)\n",
    "    if proteome in proteomes[22:34]:\n",
    "        outlist.append(3)\n",
    "nerve_2_tuning['class'] = outlist\n",
    "tmp_sem = nerve_2_tuning[['class']].plot.hist()"
   ]
  },
  {
   "cell_type": "code",
   "execution_count": null,
   "id": "0dbd7604",
   "metadata": {
    "vscode": {
     "languageId": "python"
    }
   },
   "outputs": [],
   "source": [
    "# perform cross validation\n",
    "outvalues = []\n",
    "for split in nerve_2_tuning['class'].unique():\n",
    "    test_set = nerve_2_tuning[nerve_2_tuning['class'] != split]\n",
    "    val_set = nerve_2_tuning[nerve_2_tuning['class'] == split]\n",
    "    test_proteomes = list(test_set['Proteome ID'].unique())\n",
    "    val_proteomes = list(val_set['Proteome ID'].unique())\n",
    "    test_antigens = list(test_set['protein'].unique())\n",
    "    val_antigens = list(val_set['protein'].unique())\n",
    "    \n",
    "    # run parameter grid search and collect accuracy, coverage, p-value\n",
    "    CONDITIONS = [[i/100, s/100] for i in range(50, 100, 5) for s in range(50, 100, 5)]\n",
    "\n",
    "    # read in precomputaded nerve predictions on known antigens\n",
    "    nerve_2_tuning_results = pd.read_csv('./tuning/nerve_2_tuning/vaccine_candidates.csv')\n",
    "    nerve_2_tuning_results.id = [element[0] for element in nerve_2_tuning_results.id.str.split('_')]\n",
    "    nerve_2_tuning_results = nerve_2_tuning_results[nerve_2_tuning_results.id.isin(test_antigens)]\n",
    "\n",
    "    outlist = []\n",
    "    for condition in CONDITIONS:\n",
    "        number_of_selected_proteins = 0\n",
    "        number_of_total_proteins = 0\n",
    "        virlimit, padlimit = condition\n",
    "\n",
    "        # evaluate for known antigens\n",
    "        list_of_known_antigens = protein_loader(nerve_2_tuning_results)\n",
    "        list_of_known_antigens_seqs = [protein.sequence for protein in list_of_known_antigens]\n",
    "        selected_antigens = select(list_of_proteins = list_of_known_antigens,\n",
    "                            transmemb_doms_limit = 3,\n",
    "                            padlimit = padlimit, mouse = \"True\",\n",
    "                            mouse_peptides_sum_limit = .15,\n",
    "                            virlimit = virlimit, virulent = \"True\")\n",
    "        # evaluate for proteomes\n",
    "        for proteome in test_proteomes:\n",
    "            path = os.path.join('./tuning/', proteome, 'vaccine_candidates.csv')\n",
    "            list_of_proteins = protein_loader(path)\n",
    "            for protein in list_of_proteins:\n",
    "                if protein.sequence in list_of_known_antigens_seqs:\n",
    "                    list_of_proteins.remove(protein)\n",
    "            selected_proteins = select(list_of_proteins = list_of_proteins,\n",
    "                                transmemb_doms_limit = 3,\n",
    "                                padlimit = padlimit, mouse = \"True\",\n",
    "                                mouse_peptides_sum_limit = .15,\n",
    "                                virlimit = virlimit, virulent = \"True\")\n",
    "            # populate values\n",
    "            number_of_selected_proteins += len(selected_proteins)\n",
    "            number_of_total_proteins += len(list_of_proteins)\n",
    "        \n",
    "        number_of_selected_proteins = number_of_selected_proteins + len(selected_antigens)\n",
    "        number_of_total_proteins = number_of_total_proteins + len(list_of_known_antigens)\n",
    "        \n",
    "        expected_bpas = round((len(list_of_known_antigens) * number_of_selected_proteins /\\\n",
    "                               number_of_total_proteins), 2)\n",
    "        recall = round((len(selected_antigens) / len(list_of_known_antigens))*100, 2)\n",
    "        coverage = round((number_of_selected_proteins / number_of_total_proteins)*100, 2)\n",
    "        fold_enrichment = round(len(selected_antigens)/expected_bpas, 2)\n",
    "        p_value = hg.sf(len(selected_antigens)-1, \n",
    "                              number_of_total_proteins, len(list_of_known_antigens), number_of_selected_proteins)\n",
    "        outlist.append([virlimit, padlimit, recall, coverage, expected_bpas, fold_enrichment,p_value])\n",
    "        \n",
    "    # get padlimit and virlimit values with lower fold-enrichment\n",
    "    df = pd.DataFrame(outlist, columns = ['virlimit', 'padlimit', 'recall (%)',\n",
    "                                'coverage (%)', 'expected_bpas', 'fold-enrichment', 'p-value'])\n",
    "    best_values_df = df[df['fold-enrichment'] == min(df['fold-enrichment'])]\n",
    "    virlimit = best_values_df[\n",
    "        best_values_df['coverage (%)'] == min(best_values_df['coverage (%)'])]['virlimit'].unique()[0]\n",
    "    padlimit = best_values_df[\n",
    "        best_values_df['coverage (%)'] == min(best_values_df['coverage (%)'])]['padlimit'].unique()[0]\n",
    "    print(split, df[df['fold-enrichment'] == min(df['fold-enrichment'])])\n",
    "    # apply lower values to validation set\n",
    "    \n",
    "    # read in precomputaded nerve predictions on known antigens\n",
    "    nerve_2_tuning_results = pd.read_csv('./tuning/nerve_2_tuning/vaccine_candidates.csv')\n",
    "    nerve_2_tuning_results.id = [element[0] for element in nerve_2_tuning_results.id.str.split('_')]\n",
    "    nerve_2_tuning_results = nerve_2_tuning_results[nerve_2_tuning_results.id.isin(val_antigens)]\n",
    "\n",
    "\n",
    "    # evaluate for known antigens\n",
    "    list_of_known_antigens = protein_loader(nerve_2_tuning_results)\n",
    "    list_of_known_antigens_seqs = [protein.sequence for protein in list_of_known_antigens]\n",
    "    selected_antigens = select(list_of_proteins = list_of_known_antigens,\n",
    "                        transmemb_doms_limit = 3,\n",
    "                        padlimit = padlimit, mouse = \"True\",\n",
    "                        mouse_peptides_sum_limit = .15,\n",
    "                        virlimit = virlimit, virulent = \"True\")\n",
    "    # evaluate for proteomes\n",
    "    for proteome in val_proteomes:\n",
    "        path = os.path.join('./tuning/', proteome, 'vaccine_candidates.csv')\n",
    "        list_of_proteins = protein_loader(path)\n",
    "        for protein in list_of_proteins:\n",
    "                if protein.sequence in list_of_known_antigens_seqs:\n",
    "                    list_of_proteins.remove(protein)\n",
    "        selected_proteins = select(list_of_proteins = list_of_proteins,\n",
    "                            transmemb_doms_limit = 3,\n",
    "                            padlimit = padlimit, mouse = \"True\",\n",
    "                            mouse_peptides_sum_limit = .15,\n",
    "                            virlimit = virlimit, virulent = \"True\")\n",
    "        # populate values\n",
    "        number_of_selected_proteins += len(selected_proteins)\n",
    "        number_of_total_proteins += len(list_of_proteins)\n",
    "    \n",
    "    number_of_selected_proteins = number_of_selected_proteins + len(selected_antigens)\n",
    "    number_of_total_proteins = number_of_total_proteins + len(list_of_known_antigens)\n",
    "                              \n",
    "    expected_bpas = round((len(list_of_known_antigens) * number_of_selected_proteins /\\\n",
    "                               number_of_total_proteins), 2)\n",
    "    recall = round((len(selected_antigens) / len(list_of_known_antigens))*100, 2)\n",
    "    coverage = round((number_of_selected_proteins / number_of_total_proteins)*100, 2)\n",
    "    fold_enrichment = round(len(selected_antigens)/expected_bpas, 2)\n",
    "    p_value = hg.sf(len(selected_antigens)-1, \n",
    "                          number_of_total_proteins, len(list_of_known_antigens), number_of_selected_proteins)\n",
    "    outvalues.append([split, virlimit, padlimit, recall, coverage, expected_bpas, fold_enrichment,p_value])\n",
    "    print([split, virlimit, padlimit, recall, coverage, expected_bpas, fold_enrichment,p_value])"
   ]
  },
  {
   "cell_type": "code",
   "execution_count": null,
   "id": "46eac2fc",
   "metadata": {
    "vscode": {
     "languageId": "python"
    }
   },
   "outputs": [],
   "source": [
    "cv_results = pd.DataFrame(outvalues, columns = ['split', 'virlimit', 'padlimit', 'recall',\n",
    "                                                'coverage', 'expected_bpas', 'fold_enrichment', 'p_value']) \n",
    "cv_results"
   ]
  },
  {
   "cell_type": "markdown",
   "id": "2be30e69",
   "metadata": {},
   "source": [
    "### Run NERVE with the optimal parameters on the test set"
   ]
  },
  {
   "cell_type": "code",
   "execution_count": null,
   "id": "0fd73411",
   "metadata": {
    "vscode": {
     "languageId": "python"
    }
   },
   "outputs": [],
   "source": [
    "# NERVE2\n",
    "\n",
    "df = pd.read_excel('../../database/antigens/test_antigens_summary_v2.xlsx', sheet_name = 'nerve_2_tests')\n",
    "df = df[df['Nerve_2_test'] == 1]\n",
    "df_neg = df[df['gram'] == '-']\n",
    "df_pos = df[df['gram'] == '+']\n",
    "to_fasta(df_neg, './test/gram_neg_2/gram_neg_2.fasta')\n",
    "to_fasta(df_pos, './test/gram_pos_2/gram_pos_2.fasta')"
   ]
  },
  {
   "cell_type": "code",
   "execution_count": null,
   "id": "ea04d237",
   "metadata": {
    "vscode": {
     "languageId": "python"
    }
   },
   "outputs": [],
   "source": [
    "# Run nerve on gram positive and negative datasets\n",
    "\n",
    "for test_set, gram in zip(['gram_neg_2', 'gram_pos_2'], \n",
    "                         ['n', 'p']):\n",
    "    \n",
    "    nerve_run = RunNerve()\n",
    "    nerve_run.args['proteome1'] = f'./test/{test_set}/{test_set}.fasta'\n",
    "    nerve_run.args['gram'] = gram\n",
    "    nerve_run.args.pop('proteome2')\n",
    "    nerve_run.args['select'] = False\n",
    "    nerve_run.args['working_dir'] = f'./test/{test_set}/'\n",
    "    out, err = nerve_run.run()"
   ]
  },
  {
   "cell_type": "code",
   "execution_count": null,
   "id": "ee4bcc0e",
   "metadata": {
    "vscode": {
     "languageId": "python"
    }
   },
   "outputs": [],
   "source": [
    "\n",
    "# read in precomputaded nerve predictions on known antigens\n",
    "nerve_2_test_results = pd.read_csv('./test/nerve_2_test/vaccine_candidates.csv')\n",
    "\n",
    "nerve_2_test = pd.read_excel('../../database/antigens/test_antigens_summary_v2.xlsx',\n",
    "                               sheet_name = 'nerve_2_tests')\n",
    "nerve_2_test = nerve_2_test[nerve_2_test['Nerve_2_test'] == 1]\n",
    "test_proteomes  = list(nerve_2_test['Proteome ID'].unique())\n",
    "\n",
    "outlist = []\n",
    "number_of_selected_proteins = 0\n",
    "number_of_total_proteins = 0\n",
    "virlimit = .55\n",
    "padlimit = .50\n",
    "\n",
    "# evaluate for known antigens\n",
    "list_of_known_antigens = protein_loader(nerve_2_test_results)\n",
    "selected_antigens = select(list_of_proteins = list_of_known_antigens,\n",
    "                    transmemb_doms_limit = 3,\n",
    "                    padlimit = padlimit, mouse = \"True\",\n",
    "                    mouse_peptides_sum_limit = .15,\n",
    "                    virlimit = virlimit, virulent = \"True\")\n",
    "# evaluate for proteomes\n",
    "for proteome in test_proteomes:\n",
    "    path = os.path.join('./tuning/', proteome, 'vaccine_candidates.csv')\n",
    "    list_of_proteins = protein_loader(path)\n",
    "    selected_proteins = select(list_of_proteins = list_of_proteins,\n",
    "                        transmemb_doms_limit = 3,\n",
    "                        padlimit = padlimit, mouse = \"True\",\n",
    "                        mouse_peptides_sum_limit = .15,\n",
    "                        virlimit = virlimit, virulent = \"True\")\n",
    "    # populate values\n",
    "    number_of_selected_proteins += len(selected_proteins)\n",
    "    number_of_total_proteins += len(list_of_proteins)\n",
    "expected_bpas = round((len(list_of_known_antigens) * len(selected_proteins)) / len(list_of_proteins),2)\n",
    "recall = round((len(selected_antigens) / len(list_of_known_antigens))*100, 2)\n",
    "coverage = round((number_of_selected_proteins / number_of_total_proteins)*100, 2)\n",
    "outlist.append([virlimit, padlimit, recall,\n",
    "                coverage,  \n",
    "               expected_bpas, recall / coverage, \n",
    "                hg.sf(len(selected_antigens)-1, \n",
    "                      number_of_total_proteins, len(list_of_known_antigens), number_of_selected_proteins)])\n"
   ]
  },
  {
   "cell_type": "code",
   "execution_count": null,
   "id": "82515acb",
   "metadata": {
    "scrolled": true,
    "vscode": {
     "languageId": "python"
    }
   },
   "outputs": [],
   "source": [
    "df = pd.DataFrame(outlist, columns = ['virlimit', 'padlimit', 'recall',\n",
    "                                        'coverage', 'expected_bpas', 'fold_enrichment', 'p_value']) \n",
    "df"
   ]
  },
  {
   "cell_type": "code",
   "execution_count": null,
   "id": "a031bd16",
   "metadata": {},
   "outputs": [],
   "source": [
    "len(list_of_known_antigens)"
   ]
  },
  {
   "cell_type": "markdown",
   "id": "f5c08b25",
   "metadata": {},
   "source": [
    "### Run statistics"
   ]
  },
  {
   "cell_type": "code",
   "execution_count": null,
   "id": "361cf0c8",
   "metadata": {
    "vscode": {
     "languageId": "python"
    }
   },
   "outputs": [],
   "source": [
    "proteomes = os.path.join('./tuning/')\n",
    "df = pd.DataFrame()\n",
    "for proteome in os.listdir(proteomes):\n",
    "    tmp_df = pd.read_csv(os.path.join(proteomes, proteome, 'vaccine_candidates.csv'))\n",
    "    df = df.append(tmp_df)\n",
    "df['index'] = range(0, len(df))\n",
    "df = df.set_index('index')\n",
    "df"
   ]
  },
  {
   "cell_type": "code",
   "execution_count": null,
   "id": "c2062533",
   "metadata": {
    "vscode": {
     "languageId": "python"
    }
   },
   "outputs": [],
   "source": [
    "df.hist('adhesin_probability')"
   ]
  },
  {
   "cell_type": "code",
   "execution_count": null,
   "id": "1211754c",
   "metadata": {
    "vscode": {
     "languageId": "python"
    }
   },
   "outputs": [],
   "source": [
    "df.hist('virulence_probability')"
   ]
  },
  {
   "cell_type": "code",
   "execution_count": null,
   "id": "bcb5f75c",
   "metadata": {
    "vscode": {
     "languageId": "python"
    }
   },
   "outputs": [],
   "source": []
  },
  {
   "cell_type": "code",
   "execution_count": null,
   "id": "120b807f",
   "metadata": {
    "vscode": {
     "languageId": "python"
    }
   },
   "outputs": [],
   "source": []
  },
  {
   "cell_type": "code",
   "execution_count": null,
   "id": "938106fe",
   "metadata": {
    "vscode": {
     "languageId": "python"
    }
   },
   "outputs": [],
   "source": []
  },
  {
   "cell_type": "code",
   "execution_count": null,
   "id": "36e7e7e1",
   "metadata": {
    "vscode": {
     "languageId": "python"
    }
   },
   "outputs": [],
   "source": []
  },
  {
   "cell_type": "code",
   "execution_count": null,
   "id": "f7525f3b",
   "metadata": {
    "vscode": {
     "languageId": "python"
    }
   },
   "outputs": [],
   "source": [
    "# run k-fold cross validation to find best parameters\n",
    "\n",
    "# read in precomputaded nerve predictions on known antigens\n",
    "nerve_2_tuning_results = pd.read_csv('./tuning/nerve_2_tuning/vaccine_candidates.csv')\n",
    "conditions = [[.9, .9]]\n",
    "result_dic = {}\n",
    "# iterate over every validation proteome\n",
    "for val_proteome in tuning_proteomes:\n",
    "    \n",
    "    val_set_df = nerve_2_tuning[nerve_2_tuning['Proteome ID'] == val_proteome]\n",
    "    tuning_set_df = nerve_2_tuning[nerve_2_tuning['Proteome ID'] != val_proteome]\n",
    "    \n",
    "    # iterate over conditions\n",
    "    for condition in conditions:\n",
    "        for tuning_proteome in list(tuning_set_df['Proteome ID'].unique()):\n",
    "            path = os.path.join('./tuning/', tuning_proteome)\n",
    "            if os.path.isdir(path) == True:\n",
    "                \n",
    "                padlimit, virlimit = condition\n",
    "                # run select on known antigens\n",
    "                known_antigens = val_set_df['protein'].to_list()\n",
    "                list_of_known_antigens = protein_loader(\n",
    "                    nerve_2_tuning_results[nerve_2_tuning_results.id.str.contains('|'.join(known_antigens))])\n",
    "                selected_antigens = select(list_of_proteins = list_of_known_antigens,\n",
    "                                           transmemb_doms_limit = 3,\n",
    "                                           padlimit = padlimit, mouse = True,\n",
    "                                           mouse_peptides_sum_limit = .15,\n",
    "                                           virlimit = virlimit, virulent = True, annotation = True)\n",
    "                # run select on the full proteome\n",
    "                list_of_proteins = protein_loader(os.path.join(path, 'vaccine_candidates.csv'))\n",
    "                selected_proteins = select(list_of_proteins = list_of_proteins,\n",
    "                                           transmemb_doms_limit = 3,\n",
    "                                           padlimit = padlimit, mouse = True,\n",
    "                                           mouse_peptides_sum_limit = .15,\n",
    "                                           virlimit = virlimit, virulent = True, annotation = True)\n",
    "                # collect data:\n",
    "                sum_of_antigens\n",
    "                sum_of_selected_antigens\n",
    "                sum_of_proteins\n",
    "                sum_of_selected_proteins\n",
    "                \n",
    "                #print(len(selected_antigens)/len(list_of_known_antigens),\n",
    "                 #     len(list_of_proteins)/len(selected_proteins))\n",
    "        # evaluate condition stats  \n",
    "        stat_value\n",
    "        condition = stat_value  \n",
    "   \n",
    "    # evaluate best condition\n",
    "    # use best condition to evaluate val set"
   ]
  },
  {
   "cell_type": "code",
   "execution_count": null,
   "id": "21ba2d89",
   "metadata": {
    "vscode": {
     "languageId": "python"
    }
   },
   "outputs": [],
   "source": []
  },
  {
   "cell_type": "code",
   "execution_count": null,
   "id": "4eebc3f7",
   "metadata": {
    "vscode": {
     "languageId": "python"
    }
   },
   "outputs": [],
   "source": []
  },
  {
   "cell_type": "code",
   "execution_count": null,
   "id": "d88fef9e",
   "metadata": {
    "vscode": {
     "languageId": "python"
    }
   },
   "outputs": [],
   "source": []
  }
 ],
 "metadata": {
  "kernelspec": {
   "display_name": "Python 3 (ipykernel)",
   "language": "python",
   "name": "python3"
  },
  "language_info": {
   "codemirror_mode": {
    "name": "ipython",
    "version": 3
   },
   "file_extension": ".py",
   "mimetype": "text/x-python",
   "name": "python",
   "nbconvert_exporter": "python",
   "pygments_lexer": "ipython3",
   "version": "3.8.13"
  }
 },
 "nbformat": 4,
 "nbformat_minor": 5
}
